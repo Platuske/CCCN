{
 "cells": [
  {
   "cell_type": "markdown",
   "metadata": {},
   "source": [
    "# BCM Rule - recurrent network"
   ]
  },
  {
   "cell_type": "markdown",
   "metadata": {
    "collapsed": true
   },
   "source": [
    "## Single postsynaptic neuron"
   ]
  },
  {
   "cell_type": "code",
   "execution_count": 56,
   "metadata": {
    "collapsed": false
   },
   "outputs": [],
   "source": [
    "import numpy as np\n",
    "import matplotlib.pyplot as plt\n",
    "import scipy.signal as sig\n",
    "%matplotlib inline"
   ]
  },
  {
   "cell_type": "markdown",
   "metadata": {},
   "source": [
    "Updating functions for a single neuron $y$, its weights $w$ and the threshold $\\theta$:\n",
    "$$ \\mathbf{y}(t) = \\mathbf{w}\\mathbf{y} $$\n",
    "$$ \\frac{d\\mathbf{w}}{dt} = \\eta \\mathbf{y}(\\mathbf{y}(t)(\\mathbf{y}(t)-\\mathbf{\\theta}))^T $$\n",
    "$$ \\frac{d\\mathbf{\\theta}}{dt} = \\frac{\\mathbf{y}^2}{y_0} $$"
   ]
  },
  {
   "cell_type": "code",
   "execution_count": 283,
   "metadata": {
    "collapsed": false
   },
   "outputs": [],
   "source": [
    "class NeuralNet(object):\n",
    "    \n",
    "    def __init__(self, FF_NUM=3, REC_NUM=10,  TOT_TIME=30, STEPS_DIM=0.001, INPUT_RATE = 20,\n",
    "                   TARGET_RATE=10, THETA_START=0.07, ETA=float('1e-2'), TAU=0.01,\n",
    "                   FF_PL=False, REC_PL=False):\n",
    "        self.FF_NUM = FF_NUM\n",
    "        self.REC_NUM = REC_NUM\n",
    "        self.TOT_TIME = TOT_TIME\n",
    "        self.STEPS_DIM = STEPS_DIM\n",
    "        self.INPUT_RATE = INPUT_RATE\n",
    "        self.TARGET_RATE = TARGET_RATE\n",
    "        self.THETA_START = THETA_START\n",
    "        self.ETA = ETA\n",
    "        self.TAU = TAU\n",
    "        self.FF_PL = FF_PL\n",
    "        self.REC_PL = REC_PL\n",
    "        \n",
    "        self.change_values()\n",
    "        \n",
    "    def __repr__(self):\n",
    "        return '''%d FF neurons\\n%d REC neurons''' % (self.FF_NUM, self.REC_NUM)\n",
    "        \n",
    "        \n",
    "    def change_values(self):\n",
    "        self.STEPS_N = round(self.TOT_TIME/self.STEPS_DIM)\n",
    "        self.time_vect = np.linspace(0,self.TOT_TIME, self.STEPS_N)\n",
    "        \n",
    "        self.rec_nn = np.zeros((self.REC_NUM, self.STEPS_N))\n",
    "        self.rec_nn[:,0] = np.random.randint(0,self.INPUT_RATE,self.REC_NUM)\n",
    "        \n",
    "        self.w_ff = np.random.random([self.REC_NUM, self.FF_NUM])*0.5\n",
    "        \n",
    "        self.w_rec = np.random.random([self.REC_NUM, self.REC_NUM])*0.21\n",
    "        self.w_rec[np.diag_indices(self.REC_NUM)] = 0\n",
    "        \n",
    "        periodic_sig = np.zeros((self.FF_NUM, (round(10/self.STEPS_DIM))))\n",
    "        periodic_sig[:,0:round(5/self.STEPS_DIM)] = 0\n",
    "        \n",
    "        self.ff_nn = np.tile(periodic_sig, [1, 50])\n",
    "        \n",
    "        self.theta = np.zeros((self.REC_NUM, self.STEPS_N))\n",
    "        self.theta[:,0] = self.THETA_START\n",
    "    \n",
    "    \n",
    "    def run_network(self):\n",
    "        \n",
    "        for i in range(1,self.STEPS_N):\n",
    "            w[w < 0] = 0\n",
    "            self.theta[:,i] = self.theta[:,i-1] + (self.STEPS_DIM/self.TAU) * (\n",
    "                -self.theta[:,i-1] + (self.rec_nn[:,i]**2)/self.TARGET_RATE)\n",
    "            \n",
    "            if self.REC_PL and self.FF_PL\n",
    "                self.rec_nn[:,i] = self.rec_nn[:,i-1] + (self.STEPS_DIM*10)*(\n",
    "                    -self.rec_nn[:,i-1] + self.w_rec[:,:].dot(self.rec_nn[:,i-1]) + \n",
    "                    self.w_ff[:,:].dot(self.ff_nn[:,i-1]))\n",
    "            \n",
    "            \n",
    "                self.ff_nn[:,i] = self.ff_nn[:,i-1] + self.STEPS_DIM*(\n",
    "                    -self.ff_nn[:,i-1] + self.input_mat)\n",
    "            \n",
    "            elif self.REC_PL and not(self.FF_PL)\n",
    "                self.rec_nn[:,:] = self.rec_nn[:,:] + self.ETA*self.STEPS_DIM*(\n",
    "                    self.w_ff[:,i-1, None] * (self.w_ff[:,i, None]*(self.w_ff[:,i, None] - self.theta[:,i-1, None])).T).T \n",
    "            \n",
    "                self.ff_nn[:,i] = self.ff_nn[:,i-1] + self.STEPS_DIM*(\n",
    "                    -self.ff_nn[:,i-1] + self.input_mat) \n",
    "\n",
    "        #return y, w, theta, time_vect\n",
    "    \n",
    "    def plot_nn(self):\n",
    "        f, ax = plt.subplots(1,1, figsize = (20,5))\n",
    "        \n",
    "        for i in range(self.REC_NUM):\n",
    "            ax.plot(self.time_vect, self.rec_nn[i,0:self.time_vect.shape[0]])\n",
    "        \n",
    "        for i in range(self.FF_NUM):\n",
    "            ax.plot(self.time_vect, self.ff_nn[i,0:self.time_vect.shape[0]])\n",
    "        \n",
    "        #ax.plot(self.time_vect, )\n",
    "        #ax.set_ylim(0, 10)\n",
    "        #ax.set_xlim(0, x_max)\n",
    "        f.show()\n",
    "        #return f\n"
   ]
  },
  {
   "cell_type": "code",
   "execution_count": 279,
   "metadata": {
    "collapsed": false
   },
   "outputs": [],
   "source": [
    "a = NeuralNet()"
   ]
  },
  {
   "cell_type": "code",
   "execution_count": 280,
   "metadata": {
    "collapsed": false
   },
   "outputs": [],
   "source": [
    "a.run_network()"
   ]
  },
  {
   "cell_type": "code",
   "execution_count": null,
   "metadata": {
    "collapsed": true
   },
   "outputs": [],
   "source": []
  }
 ],
 "metadata": {
  "kernelspec": {
   "display_name": "Python 3",
   "language": "python",
   "name": "python3"
  },
  "language_info": {
   "codemirror_mode": {
    "name": "ipython",
    "version": 3
   },
   "file_extension": ".py",
   "mimetype": "text/x-python",
   "name": "python",
   "nbconvert_exporter": "python",
   "pygments_lexer": "ipython3",
   "version": "3.5.2"
  }
 },
 "nbformat": 4,
 "nbformat_minor": 0
}
