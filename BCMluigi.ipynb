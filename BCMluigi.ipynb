{
 "cells": [
  {
   "cell_type": "code",
   "execution_count": 2,
   "metadata": {
    "collapsed": true
   },
   "outputs": [],
   "source": [
    "# # BCM Rule - recurrent network\n",
    "import sys\n",
    "import numpy as np\n",
    "import scipy as sp\n",
    "import matplotlib.pyplot as plt\n",
    "import scipy.signal as sig\n",
    "get_ipython().magic('matplotlib inline')"
   ]
  },
  {
   "cell_type": "code",
   "execution_count": 5,
   "metadata": {
    "collapsed": false
   },
   "outputs": [],
   "source": [
    "class NeuralNet(object):\n",
    "    \n",
    "    def __init__(self, GROUPS_NUM=5, FF_NUM=200, REC_EXC_NUM=100, REC_INH_NUM=100, \n",
    "                 TOT_TIME=20, STEPS_DIM=0.0001,  TIME_CONST = 0.01,\n",
    "                 TARGET_RATE=20, STARTING_RATE = 20, MEAN_DRIVE = 10,\n",
    "                 THETA_START=0.07, ETA_E=float('1e-6'), ETA_I=float('1e-4'), TAU=1,\n",
    "                 FF_PL=False, REC_PL_E=True, REC_PL_I=True):\n",
    "        \n",
    "        #self.GROUPS_NUM = GROUPS_NUM\n",
    "            \n",
    "        self.FF_NUM = FF_NUM\n",
    "        self.REC_EXC_NUM = REC_EXC_NUM\n",
    "        self.REC_INH_NUM = REC_INH_NUM\n",
    "        self.REC_NUM = REC_EXC_NUM + REC_INH_NUM        \n",
    "        self.TOT_TIME = TOT_TIME\n",
    "        self.STEPS_DIM = STEPS_DIM\n",
    "        self.STARTING_RATE = STARTING_RATE #starting rate for recurrent network\n",
    "        self.TARGET_RATE = TARGET_RATE\n",
    "        self.THETA_START = THETA_START\n",
    "        self.ETA_E = ETA_E\n",
    "        self.ETA_I = ETA_I\n",
    "        self.TAU = TAU #for weights\n",
    "        self.FF_PL = FF_PL\n",
    "        self.REC_PL_E = REC_PL_E\n",
    "        self.REC_PL_I = REC_PL_I\n",
    "        self.TIME_CONST = TIME_CONST #for rate\n",
    "        self.MEAN_DRIVE = MEAN_DRIVE\n",
    "        \n",
    "        self.SUB_SAMP = 2000\n",
    "        \n",
    "        self.change_values()\n",
    "        self.set_ff_activation()\n",
    "        \n",
    "        \n",
    "    def __repr__(self):\n",
    "        return '''%d FF neurons\\n%d REC neurons''' % (self.FF_NUM, self.REC_NUM) \n",
    "        \n",
    "        \n",
    "    def change_values(self):\n",
    "        \n",
    "        self.STEPS_N = round(self.TOT_TIME/self.STEPS_DIM) # time steps = total simulation time / simulation step size\n",
    "        self.time_vect = np.linspace(0,self.TOT_TIME, self.STEPS_N) # create a time vector of size TOT.time and step size \n",
    "        \n",
    "        self.rec_nn = np.zeros((self.REC_NUM, self.STEPS_N)) # create empty array with size of the recurrent network\n",
    "        self.rec_nn[:,0] = np.random.randint(0,self.STARTING_RATE,self.REC_NUM) # intial firing rates at time step 0\n",
    "        \n",
    "        self.ff_nn = np.zeros((self.REC_NUM, self.STEPS_N))\n",
    "        \n",
    "        # create a random weight matrix for feed-forward input (size REC x FF) \n",
    "        self.w_ff = np.eye(self.REC_NUM)\n",
    "        \n",
    "        self.w_ff[self.REC_EXC_NUM:,self.REC_EXC_NUM:] = 0 #no feedforward input for inhibitory neurons! \n",
    "        \n",
    "        # create a random weight matrix for the recurrent network\n",
    "        \n",
    "        #Draw recurrent weights from gamma distribution\n",
    "        R = 0.1 #Limit radius for eigenvalues in complex space\n",
    "        K = 2 #shape of the Gamma distribution\n",
    "        THETA = R/((2*self.REC_NUM)**(1/2.0))\n",
    "\n",
    "        w_rec = np.random.gamma(K, THETA, [self.REC_NUM,self.REC_NUM])\n",
    "        np.fill_diagonal(w_rec,0)\n",
    "        scal = np.absolute(sum(w_rec[:,:self.REC_EXC_NUM].T)/sum(w_rec[:,self.REC_EXC_NUM:].T))\n",
    "        w_rec[:,self.REC_EXC_NUM:] = w_rec[:,self.REC_EXC_NUM:] * scal.reshape((-1,1))\n",
    "        w_rec[:,self.REC_EXC_NUM:] = -w_rec[:,self.REC_EXC_NUM:]\n",
    "        \n",
    "        self.w_rec = w_rec\n",
    "        \n",
    "        self.theta = np.zeros((self.REC_NUM, self.STEPS_N))\n",
    "        self.theta[:,0] = self.THETA_START\n",
    "        \n",
    "        self.w_sample = np.zeros((20, self.STEPS_N))\n",
    "        self.w_history = np.zeros((\n",
    "                self.REC_EXC_NUM, self.REC_EXC_NUM, round(self.STEPS_N/self.SUB_SAMP-1)))\n",
    "    \n",
    "    \n",
    "    def set_ff_activation(self, BACKGROUND_TYPE='none', #BACKGROUND_VALUE=None, \n",
    "                          STIM_VALUE=1, STIM_TYPE='none', CORR_IN_GROUP=0.5,#STIM_LENGTH=None, #STIM_END=None,\n",
    "                          GROUPS_NUM=5, make_uncorr=False):\n",
    "                        #target_neurons=[]):\n",
    "        \n",
    "        if STIM_VALUE is None:\n",
    "            STIM_VALUE = self.STARTING_RATE/4\n",
    "        #if BACKGROUND_VALUE is None:\n",
    "        #    NOISE_VALUE = STIM_VALUE/4\n",
    "        #if STIM_LENGTH is None:\n",
    "        #    STIM_LENGTH = round(self.TOT_TIME/2)\n",
    "        #if target_neurons is None:\n",
    "        #    target_neurons = list(range(round(self.REC_NUM/5)))\n",
    "            \n",
    "        \n",
    "        #Set the background (input values to nonstimulated neurons - zero or random noise)\n",
    "        if BACKGROUND_TYPE=='none':\n",
    "            #Set the input values of the non stimulated neurons\n",
    "            noise = np.zeros((self.REC_NUM, self.STEPS_N)) \n",
    "            \n",
    "        elif BACKGROUND_TYPE=='random':\n",
    "            #Set the input values of the non stimulated neurons\n",
    "            noise = np.random.rand(\n",
    "                self.REC_NUM, self.time_vect.shape[0])*NOISE_VALUE \n",
    "            \n",
    "        elif BACKGROUND_TYPE=='OU_noise':\n",
    "            noise = correlated_ou_process(STEPS_N=self.STEPS_N, N=self.FF_NUM, VAR=STIM_VALUE, \n",
    "                                          STEPS_DIM=self.STEPS_DIM, \n",
    "                                          GROUPS_NUM=GROUPS_NUM, CORR_IN_GROUP=CORR_IN_GROUP)\n",
    "        \n",
    "        #signal = np.zeros((len(target_neurons), self.STEPS_N)) \n",
    "\n",
    "        #if STIM_TYPE=='OU_noise':\n",
    "        #    signal = correlated_ou_process(N = len(target_neurons), VAR=NOISE_VALUE)\n",
    "        \n",
    "        self.ff_nn = noise\n",
    "        #self.ff_nn[target_neurons,:] = signal\n",
    "        \n",
    "\n",
    "        \n",
    "    def display_stim(self):\n",
    "        f, ax = plt.subplots(1,1, figsize = (20,5))\n",
    "        ax.imshow(self.ff_nn, aspect='auto',  interpolation='nearest')\n",
    "        plt.colorbar\n",
    "        \n",
    "        \n",
    "    \n",
    "    def run_network(self):\n",
    "        \n",
    "        #  rec.nn                           --> recurrent network \n",
    "        #  STEPS_DIM/TIME_CONST             --> size of simulation interval / rate time constant\n",
    "        #  self.rec_nn                     --> leaky term \n",
    "        #  w_rec dot rec_nn                --> matrix multiplication of recurrent weight matrix and recurrent \n",
    "        #  w_ff dot ff_nn                  --> feed-forward weight matrix * feed-forward input firing rates\n",
    "        #self.w_history[:,:,0] = self.w_rec\n",
    "        k=0\n",
    "        \n",
    "        for i in range(1,self.STEPS_N):\n",
    "            self.rec_nn[:,i] = self.rec_nn[:,i-1] + (self.STEPS_DIM/self.TIME_CONST)*(\n",
    "                    -self.rec_nn[:,i-1] + io_function(self.w_rec[:,:].dot(self.rec_nn[:,i-1]) + \n",
    "                    self.w_ff[:,:].dot(self.ff_nn[:,i-1]) + self.MEAN_DRIVE))\n",
    "            \n",
    "            # BCM threshold theta\n",
    "            # TAU --> BCM time constant\n",
    "\n",
    "            \n",
    "            # recurrent network placticiy\n",
    "            # ETA --> factor of the BCM rule\n",
    "\n",
    "            if i%500 == 0 and i > (5*self.TAU/self.STEPS_DIM):\n",
    "                if self.REC_PL_E:\n",
    "                    self.w_rec[:,:self.REC_EXC_NUM] = self.w_rec[:,:self.REC_EXC_NUM] + self.ETA_E*np.outer(\n",
    "                        (self.rec_nn[:,i-1]*(self.rec_nn[:,i-1] - self.theta[:,i-1])), \n",
    "                        (self.rec_nn[:self.REC_EXC_NUM,i-1]))\n",
    "                    \n",
    "                if self.REC_PL_I:\n",
    "                    self.w_rec[:,self.REC_EXC_NUM:] = self.w_rec[:,self.REC_EXC_NUM:] - self.ETA_I*np.outer(\n",
    "                        (self.rec_nn[:,i-1]*(self.rec_nn[:,i-1] - self.TARGET_RATE)), \n",
    "                        (self.rec_nn[self.REC_EXC_NUM:,i-1]))\n",
    "                    \n",
    "                if self.FF_PL:                \n",
    "                    self.w_ff = self.w_ff + self.ETA *(\n",
    "                        (self.rec_nn[:,i-1]*(self.rec_nn[:,i-1] - self.theta[:,i-1])) * self.ff_nn[:,i-1].T)\n",
    "\n",
    "                \n",
    "                np.fill_diagonal(self.w_rec[:,:], 0) # set diagonal to 0 to prevent self-excitation\n",
    "\n",
    "                #self.w_ff = self.w_ff.clip(0)\n",
    "                \n",
    "\n",
    "            self.w_rec[:,:self.REC_EXC_NUM] = np.clip(self.w_rec[:,:self.REC_EXC_NUM], 0, np.inf)\n",
    "            self.w_rec[:,self.REC_EXC_NUM:] = np.clip(self.w_rec[:,self.REC_EXC_NUM:], -np.inf,0)\n",
    "                \n",
    "            self.theta[:,i] = self.theta[:,i-1] + (self.STEPS_DIM/self.TAU) * (\n",
    "                -self.theta[:,i-1] + (self.rec_nn[:,i]**2)/self.TARGET_RATE)\n",
    "            \n",
    "            if i%self.SUB_SAMP == 0:\n",
    "                self.w_history[:,:,k] = self.w_rec[:self.REC_EXC_NUM,:self.REC_EXC_NUM]\n",
    "                k+=1\n",
    "            \n",
    "            #self.w_sample[:10,i] = self.w_rec[0,1:11]\n",
    "            #self.w_sample[10:,i] = self.w_rec[0,21:31]\n",
    "            \n",
    "            #self.w_history[:,:,1] = self.w_rec\n",
    "            \n",
    "                                \n",
    "    def plot_rate(self):\n",
    "        f, ax = plt.subplots(1,2, figsize = (20,5))\n",
    "\n",
    "        img1 = ax[0].imshow(self.rec_nn[:,::1000], aspect='auto', interpolation = 'nearest')\n",
    "        ax[0].set_title('change in network firing rate over time')\n",
    "        plt.colorbar(img1, ax=ax[0])\n",
    "        \n",
    "        ax[1].plot(np.mean(self.rec_nn[:,:],0)) #mean rate over time over network \n",
    "        ax[1].set_title('mean change in rate of whole network over simulation')\n",
    "        \n",
    "    \n",
    "    def plot_weight(self):\n",
    "        f, ax = plt.subplots(1,2, figsize = (20,5))\n",
    "        ax[0].set_title('change in weights of subset of exc and inh neurons over simulation')\n",
    "        img1 = ax[0].pcolor(self.w_sample[:,::100], vmin=-4, vmax=4)\n",
    "        plt.colorbar(img1, ax=ax[0])\n",
    "        #plt.show()\n",
    "        \n",
    "        img2 = ax[1].imshow(self.w_history[:,:,0], interpolation='nearest')\n",
    "        ax[1].set_title('weight matrix at beginning of the simulation')\n",
    "        plt.colorbar(img2, ax=ax[1])\n",
    "\n",
    "def correlated_ou_process(STEPS_N, N, VAR=1, TAU=0.5, GROUPS_NUM=1, STEPS_DIM=0.0001, \n",
    "                          CORR_IN_GROUP=0.5, make_uncorr=False):\n",
    "    \n",
    "    POS_CORR = CORR_IN_GROUP #positive correlation for inputs on covariance matrix\n",
    "    GROUP_SIZE = int(N/GROUPS_NUM) #number of neurons in each group \n",
    "\n",
    "    #Calculate the negative correlation to have 0.001 sum over the rows\n",
    "    NEG_CORR = -(0.999 + (GROUP_SIZE-1)*POS_CORR)/((GROUPS_NUM-1)*GROUP_SIZE)\n",
    "    \n",
    "    #sigma_noise = np.eye(GROUPS_NUM)\n",
    "    block = POS_CORR*np.ones([GROUP_SIZE, GROUP_SIZE])\n",
    "    sigma_noise = np.kron(np.eye(GROUPS_NUM), block) #block diagonal \n",
    "    np.fill_diagonal(sigma_noise, 1) #variances \n",
    "    \n",
    "    if not make_uncorr:\n",
    "        sigma_noise[sigma_noise == 0] = NEG_CORR #fill everything else with -ve correlations \n",
    "    \n",
    "    sigma_noise *= VAR\n",
    "    \n",
    "    \n",
    "    plt.imshow(sigma_noise, interpolation = 'nearest')\n",
    "    plt.title('desired covariance matrix of input')\n",
    "    plt.colorbar()\n",
    "    plt.show()\n",
    "    \n",
    "    ell_noise = np.linalg.cholesky(sigma_noise)\n",
    "    z_noise = np.sqrt(2*STEPS_DIM/TAU)\n",
    "\n",
    "    noise = np.zeros((N,STEPS_N))\n",
    "    noise[:,0] = ell_noise.dot(np.random.normal(0,1,(N)))\n",
    "    \n",
    "    for i in range(1,STEPS_N):\n",
    "        noise[:,i] = (1 - STEPS_DIM/TAU)*noise[:,i-1] + z_noise*ell_noise.dot(np.random.normal(0,1,N))\n",
    "    return noise\n",
    "\n",
    "\n",
    "def io_function(x):\n",
    "    #Nonlinear function that rectifies under 0 and \n",
    "    x[x<0] = 0\n",
    "    x[x>=20] = 20+80*np.tanh((x[x>=20]-20)/80)\n",
    "\n",
    "    return x"
   ]
  },
  {
   "cell_type": "code",
   "execution_count": null,
   "metadata": {
    "collapsed": false
   },
   "outputs": [],
   "source": [
    "net = NeuralNet(GROUPS_NUM = 1, FF_NUM = 200, REC_EXC_NUM = 100, REC_INH_NUM = 100, \n",
    "                TOT_TIME = 1000, STEPS_DIM = 0.001, TIME_CONST = 0.01, \n",
    "                TARGET_RATE = 10, STARTING_RATE = 10, MEAN_DRIVE = 10,\n",
    "                THETA_START = 0.1, ETA_E = float('1e-7'), ETA_I = float('1e-6'), TAU = 1, \n",
    "                FF_PL = False, REC_PL_E = True, REC_PL_I = True)\n",
    "\n",
    "net.set_ff_activation(BACKGROUND_TYPE='OU_noise',  \n",
    "                          STIM_VALUE=5, STIM_TYPE='none', CORR_IN_GROUP=0.8,\n",
    "                          GROUPS_NUM=10, make_uncorr=False)"
   ]
  },
  {
   "cell_type": "code",
   "execution_count": null,
   "metadata": {
    "collapsed": false
   },
   "outputs": [],
   "source": [
    "net.run_network()"
   ]
  },
  {
   "cell_type": "code",
   "execution_count": null,
   "metadata": {
    "collapsed": false
   },
   "outputs": [],
   "source": [
    "#f = plt.figure(figsize=(20,10))\n",
    "plt.imshow(net.ff_nn[:,::2000],  interpolation = 'nearest', aspect='auto')\n",
    "plt.title('Generated input in time')\n",
    "plt.colorbar()\n",
    "plt.show()"
   ]
  },
  {
   "cell_type": "code",
   "execution_count": null,
   "metadata": {
    "collapsed": false
   },
   "outputs": [],
   "source": [
    "f, ax = plt.subplots(1,2, figsize = (20,5))\n",
    "\n",
    "img1 = ax[0].imshow(net.rec_nn[:,::100], aspect='auto', interpolation = 'nearest')\n",
    "ax[0].set_title('change in network firing rate over time')\n",
    "plt.colorbar(img1, ax=ax[0])\n",
    "\n",
    "ax[1].plot(np.mean(net.rec_nn[:,:],0)) #mean rate over time over network \n",
    "ax[1].set_title('mean change in rate of whole network over simulation')\n",
    "#ax[1].set_xlim(0,160000)\n",
    "plt.show()"
   ]
  },
  {
   "cell_type": "code",
   "execution_count": null,
   "metadata": {
    "collapsed": false
   },
   "outputs": [],
   "source": [
    "#final_weights = net.w_history[:,:,-1]\n",
    "#exc_weights = final_weights[15:25,15:25]\n",
    "#exc_weights = final_weights#[:net.REC_EXC_NUM,:net.REC_EXC_NUM]\n",
    "#exc_weights = np.divide(exc_weights, np.max(exc_weights))\n",
    "plt.imshow( net.w_history[:,:,-1]-net.w_history[:,:,0], interpolation = 'nearest')\n",
    "plt.colorbar()\n",
    "plt.title('difference between first and last excitatory weights')\n",
    "plt.show()"
   ]
  },
  {
   "cell_type": "code",
   "execution_count": 68,
   "metadata": {
    "collapsed": false
   },
   "outputs": [
    {
     "data": {
      "text/plain": [
       "[]"
      ]
     },
     "execution_count": 68,
     "metadata": {},
     "output_type": "execute_result"
    },
    {
     "data": {
      "image/png": "[encoded data removed]",
      "text/plain": [
       "<matplotlib.figure.Figure at 0x116221390>"
      ]
     },
     "metadata": {},
     "output_type": "display_data"
    }
   ],
   "source": [
    "disp_weights = net.w_history[:,:,-1]\n",
    "low_lim = 0\n",
    "up_lim = 1\n",
    "disp_weights[disp_weights<low_lim] = low_lim\n",
    "disp_weights[disp_weights>up_lim] = up_lim\n",
    "plt.imshow(disp_weights, interpolation = 'nearest')\n",
    "plt.colorbar()\n",
    "plt.plot()"
   ]
  },
  {
   "cell_type": "code",
   "execution_count": 59,
   "metadata": {
    "collapsed": false
   },
   "outputs": [
    {
     "name": "stdout",
     "output_type": "stream",
     "text": [
      "[[ 0  0]\n",
      " [ 0  1]\n",
      " [ 0  2]\n",
      " ..., \n",
      " [99 97]\n",
      " [99 98]\n",
      " [99 99]]\n"
     ]
    },
    {
     "data": {
      "image/png": "[encoded data removed]",
      "text/plain": [
       "<matplotlib.figure.Figure at 0x1c46eba58>"
      ]
     },
     "metadata": {},
     "output_type": "display_data"
    }
   ],
   "source": [
    "exc_weights = net.w_history[:,:,-1]\n",
    "thr = 2/3\n",
    "exc_diff = np.zeros(exc_weights.shape)\n",
    "exc_diff[exc_weights>(thr*np.max(exc_weights))] = 1\n",
    "exc_diff[exc_weights<(thr*np.max(exc_weights))] = 0\n",
    "overlap = (exc_diff == exc_diff.T)\n",
    "bidirectional_connections = np.argwhere(overlap != 0)\n",
    "plt.imshow(overlap, interpolation = 'nearest', cmap='hot')\n",
    "plt.title('\\n strong (>2/3 max weight) bidirectional connections \\n')\n",
    "print(bidirectional_connections)"
   ]
  },
  {
   "cell_type": "code",
   "execution_count": null,
   "metadata": {
    "collapsed": false
   },
   "outputs": [],
   "source": [
    "plt.plot(net.w_history[50,50,:])"
   ]
  },
  {
   "cell_type": "code",
   "execution_count": null,
   "metadata": {
    "collapsed": true
   },
   "outputs": [],
   "source": [
    "plt.imshow(net.w_history[1,:,:])"
   ]
  }
 ],
 "metadata": {
  "kernelspec": {
   "display_name": "Python 3",
   "language": "python",
   "name": "python3"
  },
  "language_info": {
   "codemirror_mode": {
    "name": "ipython",
    "version": 3
   },
   "file_extension": ".py",
   "mimetype": "text/x-python",
   "name": "python",
   "nbconvert_exporter": "python",
   "pygments_lexer": "ipython3",
   "version": "3.5.2"
  }
 },
 "nbformat": 4,
 "nbformat_minor": 0
}
