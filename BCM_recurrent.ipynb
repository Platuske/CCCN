{
 "cells": [
  {
   "cell_type": "markdown",
   "metadata": {},
   "source": [
    "# BCM Rule - recurrent network"
   ]
  },
  {
   "cell_type": "markdown",
   "metadata": {
    "collapsed": true
   },
   "source": [
    "## Single postsynaptic neuron"
   ]
  },
  {
   "cell_type": "code",
   "execution_count": null,
   "metadata": {
    "collapsed": false
   },
   "outputs": [],
   "source": [
    "import numpy as np\n",
    "import matplotlib.pyplot as plt\n",
    "import scipy.signal as sig\n",
    "%matplotlib inline"
   ]
  },
  {
   "cell_type": "markdown",
   "metadata": {},
   "source": [
    "Updating functions for a single neuron $y$, its weights $w$ and the threshold $\\theta$:\n",
    "$$ \\mathbf{y}(t) = \\mathbf{w}\\mathbf{y} $$\n",
    "$$ \\frac{d\\mathbf{w}}{dt} = \\eta \\mathbf{x} \\mathbf{y}(\\mathbf{y}(t)-\\mathbf{\\theta}) $$\n",
    "$$ \\frac{d\\mathbf{\\theta}}{dt} = \\frac{\\mathbf{y}^2}{y_0} $$"
   ]
  },
  {
   "cell_type": "code",
   "execution_count": 1,
   "metadata": {
    "collapsed": false
   },
   "outputs": [],
   "source": [
    "class NeuralNet(object):\n",
    "    \n",
    "    def __init__(self, FF_NUM=10, REC_NUM=10, TOT_TIME=20, STEPS_DIM=0.0001, STARTING_RATE = 20,\n",
    "                   TARGET_RATE=10, THETA_START=0.07, ETA=float('1e-2'), TAU=0.03, TIME_CONST = 1,\n",
    "                   FF_PL=False, REC_PL=False):\n",
    "        self.FF_NUM = FF_NUM\n",
    "        self.REC_NUM = REC_NUM\n",
    "        self.TOT_TIME = TOT_TIME\n",
    "        self.STEPS_DIM = STEPS_DIM\n",
    "        self.STARTING_RATE = STARTING_RATE #starting rate for recurrent network\n",
    "        self.TARGET_RATE = TARGET_RATE\n",
    "        self.THETA_START = THETA_START\n",
    "        self.ETA = ETA\n",
    "        self.TAU = TAU #for weights\n",
    "        self.FF_PL = FF_PL\n",
    "        self.REC_PL = REC_PL\n",
    "        self.TIME_CONST = TIME_CONST #for rate\n",
    "        \n",
    "        self.change_values()\n",
    "        self.set_stimulation()\n",
    "        \n",
    "        \n",
    "    def __repr__(self):\n",
    "        return '''%d FF neurons\\n%d REC neurons''' % (self.FF_NUM, self.REC_NUM) \n",
    "        \n",
    "        \n",
    "    def change_values(self):\n",
    "        \n",
    "        self.STEPS_N = round(self.TOT_TIME/self.STEPS_DIM) # time steps = total simulation time / simulation step size\n",
    "        self.time_vect = np.linspace(0,self.TOT_TIME, self.STEPS_N) # create a time vector of size TOT.time and step size \n",
    "        \n",
    "        self.rec_nn = np.zeros((self.REC_NUM, self.STEPS_N)) # create empty array with size of the recurrent network\n",
    "        self.rec_nn[:,0] = np.random.randint(0,self.STARTING_RATE,self.REC_NUM) # intial firing rates at time step 0\n",
    "        \n",
    "        self.ff_nn = np.zeros((self.REC_NUM, self.STEPS_N))\n",
    "        \n",
    "        # create a random weight matrix for feed-forward input (size REC x FF) \n",
    "        self.w_ff = np.random.uniform(0.5, 2, [self.REC_NUM, self.FF_NUM]) #random uniform rates [0.5, 2] Hz (Clopath)\n",
    "        \n",
    "        # create a random weight matrix for the recurrent network\n",
    "        self.w_rec = np.zeros((self.REC_NUM, self.REC_NUM, self.STEPS_N))\n",
    "        self.w_rec[:,:,0] = 0.25 #recurrent weights of 0.25 Hz (Clopath)\n",
    "        \n",
    "        self.theta = np.zeros((self.REC_NUM, self.STEPS_N))\n",
    "        self.theta[:,0] = self.THETA_START\n",
    "    \n",
    "    \n",
    "    def set_stimulation(self, BACKGROUND_TYPE='noisy', STIM_TYPE='square_wave', \n",
    "                        STIM_VALUE=None, NOISE_VALUE=None, STIM_LENGTH=None, STIM_END=None,\n",
    "                        target_neurons=None):\n",
    "                        #target_neurons=[]):\n",
    "        if STIM_VALUE is None:\n",
    "            STIM_VALUE = self.STARTING_RATE/4\n",
    "        if NOISE_VALUE is None:\n",
    "            NOISE_VALUE = STIM_VALUE/4\n",
    "        if STIM_END is None:\n",
    "            STIM_END = self.TOT_TIME\n",
    "        if STIM_LENGTH is None:\n",
    "            STIM_LENGTH = round(self.TOT_TIME/2)\n",
    "        if target_neurons is None:\n",
    "            target_neurons = list(range(round(self.REC_NUM/5)))\n",
    "        \n",
    "        #Set the background (input values to nonstimulated neurons - zero or random noise)\n",
    "        if BACKGROUND_TYPE=='none':\n",
    "            #Set the input values of the non stimulated neurons\n",
    "            self.ff_nn = np.zeros((self.REC_NUM, self.STEPS_N)) \n",
    "            #Set the gaps of the periodic signal without stimulus\n",
    "            periodic_sig = np.zeros((len(target_neurons), round(STIM_LENGTH*2/self.STEPS_DIM)))\n",
    "            \n",
    "        elif BACKGROUND_TYPE=='noisy':\n",
    "            #Set the input values of the non stimulated neurons\n",
    "            self.ff_nn = np.random.rand(\n",
    "                self.REC_NUM, self.time_vect.shape[0])*NOISE_VALUE \n",
    "            #Set the gaps of the periodic signal without stimulus\n",
    "            periodic_sig = np.random.rand(\n",
    "                len(target_neurons), round(STIM_LENGTH*2/self.STEPS_DIM))*NOISE_VALUE\n",
    "        \n",
    "        #Set the stimulation values\n",
    "        if STIM_TYPE=='square_wave':\n",
    "            #Non-noisy square wave:\n",
    "            periodic_sig[:,0:round(STIM_LENGTH/self.STEPS_DIM)] = STIM_VALUE\n",
    "        elif STIM_TYPE=='noisy_square_wave':\n",
    "            #Noisy square wave:\n",
    "            periodic_sig[:,0:round(STIM_LENGTH/self.STEPS_DIM)] = STIM_VALUE + np.random.rand(\n",
    "                len(target_neurons), round(STIM_LENGTH/self.STEPS_DIM))*NOISE_VALUE\n",
    "        \n",
    "        #Multiple stimuli if stim_length is shorter than total time: \n",
    "        stim_template = np.tile(periodic_sig, [1, round(STIM_END/STIM_LENGTH)+1])\n",
    "        #print(self.ff_nn.shape)\n",
    "        self.ff_nn[target_neurons,:round(STIM_END/self.STEPS_DIM)] = stim_template[\n",
    "            :,:round(STIM_END/self.STEPS_DIM)]\n",
    "\n",
    "    def display_stim(self):\n",
    "        f, ax = plt.subplots(1,1, figsize = (20,5))\n",
    "        ax.imshow(self.ff_nn, aspect='auto',  interpolation='nearest')\n",
    "    \n",
    "    def run_network(self):\n",
    "        \n",
    "        #  rec.nn                           --> recurrent network \n",
    "        #  STEPS_DIM/TIME_CONST             --> size of simulation interval / rate time constant\n",
    "        #  self.rec_nn                     --> leaky term \n",
    "        #  w_rec dot rec_nn                --> matrix multiplication of recurrent weight matrix and recurrent \n",
    "        #  w_ff dot ff_nn                  --> feed-forward weight matrix * feed-forward input firing rates\n",
    "        \n",
    "        for i in range(1,self.STEPS_N):\n",
    "            np.fill_diagonal(self.w_rec[:,:,i-1], 0) # set diagonal to 0 to prevent self-excitation\n",
    "            \n",
    "            self.rec_nn[:,i] = self.rec_nn[:,i-1] + (self.STEPS_DIM/self.TIME_CONST)*(\n",
    "                    -self.rec_nn[:,i-1] + self.w_rec[:,:,i-1].dot(self.rec_nn[:,i-1]) + \n",
    "                    self.w_ff[:,:].dot(self.ff_nn[:,i-1]))\n",
    "            \n",
    "            # BCM threshold theta\n",
    "            # TAU --> BCM time constant\n",
    "            \n",
    "            self.theta[:,i] = self.theta[:,i-1] + (self.STEPS_DIM/self.TAU) * (\n",
    "                -self.theta[:,i-1] + (self.rec_nn[:,i]**2)/self.TARGET_RATE)\n",
    "            \n",
    "            # recurrent network placticiy\n",
    "            # ETA --> factor of the BCM rule\n",
    "            \n",
    "            if self.REC_PL:\n",
    "                self.w_rec[:,:,i-1] = self.w_rec[:,:,i-1].clip(0)\n",
    "                \n",
    "                self.w_rec[:,:,i] = self.w_rec[:,:,i-1] + self.STEPS_DIM*self.ETA *(\n",
    "                    self.w_rec[:,:,i-1] * (self.rec_nn[:,i-1]*(self.rec_nn[:,i-1] - self.theta[:,i-1])).T).T\n",
    "                \n",
    "            elif self.FF_PL:\n",
    "                self.w_ff[:,:,i-1] = self.w_ff[:,:,i-1].clip(0)\n",
    "                self.w_ff[:,:] = self.w_ff[:,:] + self.STEPS_DIM*self.ETA *(\n",
    "                    self.w_ff[:,:] * (self.ff_nn[:,i-1]*(self.ff_nn[:,i-1] - self.theta[:,i-1])).T).T\n",
    "                \n",
    "    def plot_nn(self):\n",
    "        f, ax = plt.subplots(1,2, figsize = (20,5))\n",
    "        \n",
    "        ax[0].plot(self.time_vect, [plastic_recurr.TARGET_RATE]*plastic_recurr.time_vect.shape[0], 'k--')\n",
    "                   \n",
    "        for i in range(self.REC_NUM):\n",
    "            ax[0].plot(self.time_vect, self.rec_nn[i,0:self.time_vect.shape[0]])\n",
    "        \n",
    "        for i in range(self.FF_NUM):\n",
    "            ax[0].plot(self.time_vect, self.ff_nn[i,0:self.time_vect.shape[0]], 'k')\n",
    "            \n",
    "        rec_weight_map = ax[1].pcolor(self.w_rec[:,:,self.STEPS_N-1], cmap=plt.cm.Blues)\n",
    "#        f[1].colorbar(rec_weight_map)\n",
    "        \n",
    "            "
   ]
  },
  {
   "cell_type": "code",
   "execution_count": 2,
   "metadata": {
    "collapsed": false
   },
   "outputs": [
    {
     "ename": "NameError",
     "evalue": "name 'np' is not defined",
     "output_type": "error",
     "traceback": [
      "\u001b[0;31m---------------------------------------------------------------------------\u001b[0m",
      "\u001b[0;31mNameError\u001b[0m                                 Traceback (most recent call last)",
      "\u001b[0;32m<ipython-input-2-4c43f0c7824a>\u001b[0m in \u001b[0;36m<module>\u001b[0;34m()\u001b[0m\n\u001b[1;32m      1\u001b[0m \u001b[0;31m#%%timeit\u001b[0m\u001b[0;34m\u001b[0m\u001b[0;34m\u001b[0m\u001b[0m\n\u001b[0;32m----> 2\u001b[0;31m \u001b[0mplastic_recurr\u001b[0m \u001b[0;34m=\u001b[0m \u001b[0mNeuralNet\u001b[0m\u001b[0;34m(\u001b[0m\u001b[0;34m)\u001b[0m\u001b[0;34m\u001b[0m\u001b[0m\n\u001b[0m\u001b[1;32m      3\u001b[0m \u001b[0mplastic_recurr\u001b[0m\u001b[0;34m.\u001b[0m\u001b[0mset_stimulation\u001b[0m\u001b[0;34m(\u001b[0m\u001b[0mSTIM_LENGTH\u001b[0m\u001b[0;34m=\u001b[0m\u001b[0;36m1\u001b[0m\u001b[0;34m)\u001b[0m\u001b[0;34m\u001b[0m\u001b[0m\n",
      "\u001b[0;32m<ipython-input-1-fa427848eb9d>\u001b[0m in \u001b[0;36m__init__\u001b[0;34m(self, FF_NUM, REC_NUM, TOT_TIME, STEPS_DIM, STARTING_RATE, TARGET_RATE, THETA_START, ETA, TAU, TIME_CONST, FF_PL, REC_PL)\u001b[0m\n\u001b[1;32m     17\u001b[0m         \u001b[0mself\u001b[0m\u001b[0;34m.\u001b[0m\u001b[0mTIME_CONST\u001b[0m \u001b[0;34m=\u001b[0m \u001b[0mTIME_CONST\u001b[0m \u001b[0;31m#for rate\u001b[0m\u001b[0;34m\u001b[0m\u001b[0m\n\u001b[1;32m     18\u001b[0m \u001b[0;34m\u001b[0m\u001b[0m\n\u001b[0;32m---> 19\u001b[0;31m         \u001b[0mself\u001b[0m\u001b[0;34m.\u001b[0m\u001b[0mchange_values\u001b[0m\u001b[0;34m(\u001b[0m\u001b[0;34m)\u001b[0m\u001b[0;34m\u001b[0m\u001b[0m\n\u001b[0m\u001b[1;32m     20\u001b[0m         \u001b[0mself\u001b[0m\u001b[0;34m.\u001b[0m\u001b[0mset_stimulation\u001b[0m\u001b[0;34m(\u001b[0m\u001b[0;34m)\u001b[0m\u001b[0;34m\u001b[0m\u001b[0m\n\u001b[1;32m     21\u001b[0m \u001b[0;34m\u001b[0m\u001b[0m\n",
      "\u001b[0;32m<ipython-input-1-fa427848eb9d>\u001b[0m in \u001b[0;36mchange_values\u001b[0;34m(self)\u001b[0m\n\u001b[1;32m     28\u001b[0m \u001b[0;34m\u001b[0m\u001b[0m\n\u001b[1;32m     29\u001b[0m         \u001b[0mself\u001b[0m\u001b[0;34m.\u001b[0m\u001b[0mSTEPS_N\u001b[0m \u001b[0;34m=\u001b[0m \u001b[0mround\u001b[0m\u001b[0;34m(\u001b[0m\u001b[0mself\u001b[0m\u001b[0;34m.\u001b[0m\u001b[0mTOT_TIME\u001b[0m\u001b[0;34m/\u001b[0m\u001b[0mself\u001b[0m\u001b[0;34m.\u001b[0m\u001b[0mSTEPS_DIM\u001b[0m\u001b[0;34m)\u001b[0m \u001b[0;31m# time steps = total simulation time / simulation step size\u001b[0m\u001b[0;34m\u001b[0m\u001b[0m\n\u001b[0;32m---> 30\u001b[0;31m         \u001b[0mself\u001b[0m\u001b[0;34m.\u001b[0m\u001b[0mtime_vect\u001b[0m \u001b[0;34m=\u001b[0m \u001b[0mnp\u001b[0m\u001b[0;34m.\u001b[0m\u001b[0mlinspace\u001b[0m\u001b[0;34m(\u001b[0m\u001b[0;36m0\u001b[0m\u001b[0;34m,\u001b[0m\u001b[0mself\u001b[0m\u001b[0;34m.\u001b[0m\u001b[0mTOT_TIME\u001b[0m\u001b[0;34m,\u001b[0m \u001b[0mself\u001b[0m\u001b[0;34m.\u001b[0m\u001b[0mSTEPS_N\u001b[0m\u001b[0;34m)\u001b[0m \u001b[0;31m# create a time vector of size TOT.time and step size\u001b[0m\u001b[0;34m\u001b[0m\u001b[0m\n\u001b[0m\u001b[1;32m     31\u001b[0m \u001b[0;34m\u001b[0m\u001b[0m\n\u001b[1;32m     32\u001b[0m         \u001b[0mself\u001b[0m\u001b[0;34m.\u001b[0m\u001b[0mrec_nn\u001b[0m \u001b[0;34m=\u001b[0m \u001b[0mnp\u001b[0m\u001b[0;34m.\u001b[0m\u001b[0mzeros\u001b[0m\u001b[0;34m(\u001b[0m\u001b[0;34m(\u001b[0m\u001b[0mself\u001b[0m\u001b[0;34m.\u001b[0m\u001b[0mREC_NUM\u001b[0m\u001b[0;34m,\u001b[0m \u001b[0mself\u001b[0m\u001b[0;34m.\u001b[0m\u001b[0mSTEPS_N\u001b[0m\u001b[0;34m)\u001b[0m\u001b[0;34m)\u001b[0m \u001b[0;31m# create empty array with size of the recurrent network\u001b[0m\u001b[0;34m\u001b[0m\u001b[0m\n",
      "\u001b[0;31mNameError\u001b[0m: name 'np' is not defined"
     ]
    }
   ],
   "source": [
    "#%%timeit\n",
    "plastic_recurr = NeuralNet()\n",
    "plastic_recurr.set_stimulation(STIM_LENGTH=1)"
   ]
  },
  {
   "cell_type": "code",
   "execution_count": null,
   "metadata": {
    "collapsed": false
   },
   "outputs": [],
   "source": [
    "#%%timeit\n",
    "plastic_recurr.run_network()\n"
   ]
  },
  {
   "cell_type": "code",
   "execution_count": null,
   "metadata": {
    "collapsed": false
   },
   "outputs": [],
   "source": [
    "plastic_recurr.plot_nn()\n"
   ]
  },
  {
   "cell_type": "code",
   "execution_count": null,
   "metadata": {
    "collapsed": false
   },
   "outputs": [],
   "source": [
    "print(plastic_recurr.w_rec[:,:,plastic_recurr.STEPS_N-1])"
   ]
  },
  {
   "cell_type": "code",
   "execution_count": null,
   "metadata": {
    "collapsed": false
   },
   "outputs": [],
   "source": [
    "plastic_recurr.display_stim()"
   ]
  },
  {
   "cell_type": "code",
   "execution_count": null,
   "metadata": {
    "collapsed": false
   },
   "outputs": [],
   "source": []
  },
  {
   "cell_type": "code",
   "execution_count": null,
   "metadata": {
    "collapsed": false
   },
   "outputs": [],
   "source": []
  },
  {
   "cell_type": "code",
   "execution_count": null,
   "metadata": {
    "collapsed": true
   },
   "outputs": [],
   "source": []
  }
 ],
 "metadata": {
  "anaconda-cloud": {},
  "kernelspec": {
   "display_name": "Python 3",
   "language": "python",
   "name": "python3"
  },
  "language_info": {
   "codemirror_mode": {
    "name": "ipython",
    "version": 3
   },
   "file_extension": ".py",
   "mimetype": "text/x-python",
   "name": "python",
   "nbconvert_exporter": "python",
   "pygments_lexer": "ipython3",
   "version": "3.5.2"
  }
 },
 "nbformat": 4,
 "nbformat_minor": 0
}
