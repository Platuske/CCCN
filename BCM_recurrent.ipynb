{
 "cells": [
  {
   "cell_type": "markdown",
   "metadata": {},
   "source": [
    "# BCM Rule - recurrent network"
   ]
  },
  {
   "cell_type": "markdown",
   "metadata": {
    "collapsed": true
   },
   "source": [
    "## Single postsynaptic neuron"
   ]
  },
  {
   "cell_type": "code",
   "execution_count": null,
   "metadata": {
    "collapsed": false
   },
   "outputs": [],
   "source": [
    "import numpy as np\n",
    "import matplotlib.pyplot as plt\n",
    "import scipy.signal as sig\n",
    "%matplotlib inline"
   ]
  },
  {
   "cell_type": "markdown",
   "metadata": {},
   "source": [
    "Updating functions for a single neuron $y$, its weights $w$ and the threshold $\\theta$:\n",
    "$$ \\mathbf{y}(t) = \\mathbf{w}\\mathbf{y} $$\n",
    "$$ \\frac{d\\mathbf{w}}{dt} = \\eta \\mathbf{x} \\mathbf{y}(\\mathbf{y}(t)-\\mathbf{\\theta}) $$\n",
    "$$ \\frac{d\\mathbf{\\theta}}{dt} = \\frac{\\mathbf{y}^2}{y_0} $$"
   ]
  },
  {
   "cell_type": "code",
   "execution_count": null,
   "metadata": {
    "collapsed": false
   },
   "outputs": [],
   "source": [
    "class NeuralNet(object):\n",
    "    \n",
    "    def __init__(self, FF_NUM=3, REC_NUM=10, TOT_TIME=20, STEPS_DIM=0.0001, STARTING_RATE = 20,\n",
    "                   TARGET_RATE=10, THETA_START=0.07, ETA=float('1e-3'), TAU=0.03, TIME_CONST = 0.01,\n",
    "                   FF_PL=False, REC_PL=True):\n",
    "        self.FF_NUM = FF_NUM\n",
    "        self.REC_NUM = REC_NUM\n",
    "        self.TOT_TIME = TOT_TIME\n",
    "        self.STEPS_DIM = STEPS_DIM\n",
    "        self.STARTING_RATE = STARTING_RATE #starting rate for recurrent network\n",
    "        self.TARGET_RATE = TARGET_RATE\n",
    "        self.THETA_START = THETA_START\n",
    "        self.ETA = ETA\n",
    "        self.TAU = TAU #for weights\n",
    "        self.FF_PL = FF_PL\n",
    "        self.REC_PL = REC_PL\n",
    "        self.TIME_CONST = TIME_CONST #for rate\n",
    "        \n",
    "        self.change_values()\n",
    "        \n",
    "        \n",
    "    def __repr__(self):\n",
    "        return '''%d FF neurons\\n%d REC neurons''' % (self.FF_NUM, self.REC_NUM) \n",
    "        \n",
    "        \n",
    "    def change_values(self):\n",
    "        \n",
    "        self.STEPS_N = round(self.TOT_TIME/self.STEPS_DIM) # time steps = total simulation time / simulation step size\n",
    "        self.time_vect = np.linspace(0,self.TOT_TIME, self.STEPS_N) # create a time vector of size TOT.time and step size \n",
    "        \n",
    "        self.rec_nn = np.zeros((self.REC_NUM, self.STEPS_N)) # create empty array with size of the recurrent network\n",
    "        self.rec_nn[:,0] = np.random.randint(0,self.STARTING_RATE,self.REC_NUM) # intial firing rates at time step 0\n",
    "        \n",
    "        # create a random weight matrix for feed-forward input (size REC x FF) \n",
    "        self.w_ff = np.random.uniform(0.5, 2, [self.REC_NUM, self.FF_NUM]) #random uniform rates [0.5, 2] Hz (Clopath)\n",
    "        \n",
    "        # create a random weight matrix for the recurrent network\n",
    "        self.w_rec = np.zeros((self.REC_NUM, self.REC_NUM, self.STEPS_N))\n",
    "        self.w_rec[:,:,0] = 0.25 #recurrent weights of 0.25 Hz (Clopath)\n",
    "        \n",
    "        periodic_sig = np.zeros((self.FF_NUM, (round(10/self.STEPS_DIM))))\n",
    "        periodic_sig[:,0:round(periodic_sig.shape[1]/2)] = 0\n",
    "        \n",
    "        self.ff_nn = np.tile(periodic_sig, [1, 50])\n",
    "        \n",
    "        self.theta = np.zeros((self.REC_NUM, self.STEPS_N))\n",
    "        self.theta[:,0] = self.THETA_START\n",
    "    \n",
    "    \n",
    "    def run_network(self):\n",
    "        for i in range(1,self.STEPS_N):\n",
    "            np.fill_diagonal(self.w_rec[:,:,i-1], 0) # set diagonal to 0 to prevent self-excitation\n",
    "            \n",
    "            self.rec_nn[:,i] = self.rec_nn[:,i-1] + (self.STEPS_DIM)*(\n",
    "                    -self.rec_nn[:,i-1] + self.w_rec[:,:,i-1].dot(self.rec_nn[:,i-1]) + \n",
    "                    self.w_ff[:,:].dot(self.ff_nn[:,i-1]))\n",
    "            \n",
    "            self.theta[:,i] = self.theta[:,i-1] + (self.STEPS_DIM/self.TAU) * (\n",
    "                -self.theta[:,i-1] + (self.rec_nn[:,i]**2)/self.TARGET_RATE)\n",
    "                        \n",
    "            if self.REC_PL:\n",
    "                self.w_rec[:,:,i-1] = self.w_rec[:,:,i-1].clip(0)\n",
    "                \n",
    "                self.w_rec[:,:,i] = self.w_rec[:,:,i-1] + self.STEPS_DIM*self.ETA *(\n",
    "                    self.w_rec[:,:,i-1] * (self.rec_nn[:,i-1]*(self.rec_nn[:,i-1] - self.theta[:,i-1])).T).T\n",
    "                \n",
    "\n",
    "            elif self.FF_PL:\n",
    "                self.w_ff[:,:,i-1] = self.w_ff[:,:,i-1].clip(0)\n",
    "                self.w_ff[:,:] = self.w_ff[:,:] + self.STEPS_DIM*self.ETA *(\n",
    "                    self.w_ff[:,:] * (self.ff_nn[:,i-1]*(self.ff_nn[:,i-1] - self.theta[:,i-1])).T).T\n",
    "                \n",
    "    def plot_nn(self):\n",
    "        f, ax = plt.subplots(1,2, figsize = (20,5))\n",
    "        \n",
    "        ax[0].plot(self.time_vect, [plastic_recurr.TARGET_RATE]*plastic_recurr.time_vect.shape[0], 'k--')\n",
    "                   \n",
    "        for i in range(self.REC_NUM):\n",
    "            ax[0].plot(self.time_vect, self.rec_nn[i,0:self.time_vect.shape[0]])\n",
    "        \n",
    "        for i in range(self.FF_NUM):\n",
    "            ax[0].plot(self.time_vect, self.ff_nn[i,0:self.time_vect.shape[0]], 'k')\n",
    "            \n",
    "        rec_weight_map = ax[1].pcolor(self.w_rec[:,:,self.STEPS_N-1], cmap=plt.cm.Blues)\n",
    "        \n",
    "            "
   ]
  },
  {
   "cell_type": "code",
   "execution_count": null,
   "metadata": {
    "collapsed": false
   },
   "outputs": [],
   "source": [
    "#%%timeit\n",
    "plastic_recurr = NeuralNet()\n"
   ]
  },
  {
   "cell_type": "code",
   "execution_count": null,
   "metadata": {
    "collapsed": false
   },
   "outputs": [],
   "source": [
    "#%%timeit\n",
    "plastic_recurr.run_network()\n"
   ]
  },
  {
   "cell_type": "code",
   "execution_count": null,
   "metadata": {
    "collapsed": false
   },
   "outputs": [],
   "source": [
    "plastic_recurr.plot_nn()\n"
   ]
  },
  {
   "cell_type": "code",
   "execution_count": null,
   "metadata": {
    "collapsed": false
   },
   "outputs": [],
   "source": [
    "print(plastic_recurr.w_rec[:,:,plastic_recurr.STEPS_N-1])"
   ]
  },
  {
   "cell_type": "code",
   "execution_count": null,
   "metadata": {
    "collapsed": false
   },
   "outputs": [],
   "source": [
    "test = np.random.random((2,2,2))\n",
    "print(test)"
   ]
  },
  {
   "cell_type": "code",
   "execution_count": null,
   "metadata": {
    "collapsed": false
   },
   "outputs": [],
   "source": [
    "print(test[:,:,1])\n",
    "\n",
    "print(np.fill_diagonal(test[:,:,1], 0))"
   ]
  },
  {
   "cell_type": "code",
   "execution_count": null,
   "metadata": {
    "collapsed": false
   },
   "outputs": [],
   "source": []
  },
  {
   "cell_type": "code",
   "execution_count": null,
   "metadata": {
    "collapsed": true
   },
   "outputs": [],
   "source": []
  }
 ],
 "metadata": {
  "anaconda-cloud": {},
  "kernelspec": {
   "display_name": "Python 3",
   "language": "python",
   "name": "python3"
  },
  "language_info": {
   "codemirror_mode": {
    "name": "ipython",
    "version": 3
   },
   "file_extension": ".py",
   "mimetype": "text/x-python",
   "name": "python",
   "nbconvert_exporter": "python",
   "pygments_lexer": "ipython3",
   "version": "3.5.2"
  }
 },
 "nbformat": 4,
 "nbformat_minor": 0
}
