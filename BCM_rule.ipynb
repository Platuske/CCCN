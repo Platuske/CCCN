{
 "cells": [
  {
   "cell_type": "markdown",
   "metadata": {},
   "source": [
    "# BCM Rule"
   ]
  },
  {
   "cell_type": "markdown",
   "metadata": {
    "collapsed": true
   },
   "source": [
    "## Two neurons projecting to one"
   ]
  },
  {
   "cell_type": "code",
   "execution_count": 2,
   "metadata": {
    "collapsed": false
   },
   "outputs": [],
   "source": [
    "import numpy as np\n",
    "import matplotlib.pyplot as plt\n",
    "%matplotlib inline"
   ]
  },
  {
   "cell_type": "code",
   "execution_count": 58,
   "metadata": {
    "collapsed": false,
    "scrolled": true
   },
   "outputs": [],
   "source": [
    "STEPS_DIM = 0.001\n",
    "THETA_START = 0.07\n",
    "ETA = float('1e-4')\n",
    "TOT_TIME = 10\n",
    "TAU = 0.02\n",
    "Y0 = 10\n",
    "\n",
    "STEPS_N = round(TOT_TIME/STEPS_DIM)\n",
    "\n",
    "time_vect = np.linspace(0,TOT_TIME, STEPS_N)\n",
    "\n",
    "theta = np.zeros((1,STEPS_N))\n",
    "theta[0,0] = THETA_START\n",
    "\n",
    "w = ([1,0.5]*np.ones((STEPS_N,2))).T\n",
    "rand_seq = np.random.randint(0,2,STEPS_N)\n",
    "x = np.array([rand_seq, 1-rand_seq])*20\n",
    "y = np.zeros((1,STEPS_N))\n",
    "\n",
    "for i in range(1,STEPS_N):\n",
    "    y[0,i] = w[:,i-1].dot(x[:,i-1])\n",
    "    w[:,i] = w[:,i-1] + (ETA*x[:,i-1]*y[0,i]*(y[0,i] - theta[0,i-1]))*STEPS_DIM\n",
    "    theta[0,i] = theta[0,i-1] + (STEPS_DIM/TAU) * (-theta[0,i-1] + (y[0,i]**2)/Y0)\n",
    "    \n",
    "    w[w < 0] = 0\n",
    "    \n",
    "    \n",
    "\n"
   ]
  },
  {
   "cell_type": "markdown",
   "metadata": {},
   "source": [
    "Plot the values of y and the weights"
   ]
  },
  {
   "cell_type": "code",
   "execution_count": 59,
   "metadata": {
    "collapsed": false,
    "scrolled": false
   },
   "outputs": [
    {
     "data": {
      "image/png": "[encoded data removed]",
      "text/plain": [
       "<matplotlib.figure.Figure at 0x111e9e9b0>"
      ]
     },
     "metadata": {},
     "output_type": "display_data"
    }
   ],
   "source": [
    "f, ax = plt.subplots(1,2, figsize = (20,5))\n",
    "ax[0].plot(time_vect, y[0,:])\n",
    "#plt.ylim(0, 0.001)\n",
    "#plt.xlim(9.8, 10)\n",
    "\n",
    "ax[1].plot(time_vect, w[0,:])\n",
    "ax[1].plot(time_vect, w[1,:])\n",
    "#plt.ylim(-50, 10)\n",
    "#plt.xlim(0, 100)\n",
    "plt.show()\n"
   ]
  },
  {
   "cell_type": "markdown",
   "metadata": {
    "collapsed": true
   },
   "source": [
    "## Multiple neurons"
   ]
  },
  {
   "cell_type": "code",
   "execution_count": 131,
   "metadata": {
    "collapsed": false
   },
   "outputs": [],
   "source": [
    "def simple_network():\n",
    "    STEPS_DIM = 0.001\n",
    "    TOT_TIME = 10\n",
    "    \n",
    "    THETA_START = 0.07\n",
    "    ETA = float('1e-3')\n",
    "    TAU = 0.05\n",
    "    Y0 = 10\n",
    "    \n",
    "    X_NUM = 2\n",
    "    Y_NUM = 3\n",
    "\n",
    "    STEPS_N = round(TOT_TIME/STEPS_DIM)\n",
    "\n",
    "    time_vect = np.linspace(0,TOT_TIME, STEPS_N)\n",
    "\n",
    "    theta = np.zeros((Y_NUM,STEPS_N))\n",
    "    theta[:,0] = THETA_START\n",
    "\n",
    "    w = np.random.random([Y_NUM, X_NUM, STEPS_N])\n",
    "    \n",
    "    rand_seq = np.random.randint(0,2,STEPS_N)\n",
    "    x = np.array([rand_seq, 1-rand_seq])*20\n",
    "    y = np.zeros((Y_NUM,STEPS_N))\n",
    "    \n",
    "    X_NUM = 2\n",
    "    Y_NUM = 3\n",
    "    w = np.random.random([X_NUM, Y_NUM, STEPS_N])\n",
    "    rand_seq = np.random.randint(0,2,STEPS_N)\n",
    "    x = np.array([rand_seq, 1-rand_seq])*20\n",
    "    y = np.zeros((Y_NUM,STEPS_N))\n",
    "    theta = np.zeros((Y_NUM,STEPS_N))\n",
    "\n",
    "    for i in range(1,STEPS_N):\n",
    "        y[:,i] = w[:,:,i-1].dot(x[:,i-1])\n",
    "        w[:,:,i] = w[:,:,i-1] + x[:,i-1, None] * (y[:,i, None]*(y[:,i, None] - theta[:,i-1, None])).T\n",
    "        #w[:,:,i] = w[:,:,i-1] + ETA*STEPS_DIM*(\n",
    "        #    x[:,i-1, None] * (y[:,i, None]*(y[:,i, None] - theta[:,i-1, None])).T)\n",
    "        \n",
    "        theta[:,i] = theta[:,i-1] + (STEPS_DIM/TAU) * (-theta[:,i-1] + (y[:,i]**2)/Y0)\n",
    "\n",
    "        w[w < 0] = 0\n",
    "    \n",
    "    return y, w\n",
    "    "
   ]
  },
  {
   "cell_type": "code",
   "execution_count": 132,
   "metadata": {
    "collapsed": false
   },
   "outputs": [
    {
     "ename": "ValueError",
     "evalue": "shapes (2,3) and (2,) not aligned: 3 (dim 1) != 2 (dim 0)",
     "output_type": "error",
     "traceback": [
      "\u001b[0;31m---------------------------------------------------------------------------\u001b[0m",
      "\u001b[0;31mValueError\u001b[0m                                Traceback (most recent call last)",
      "\u001b[0;32m<ipython-input-132-e23a68cdd680>\u001b[0m in \u001b[0;36m<module>\u001b[0;34m()\u001b[0m\n\u001b[0;32m----> 1\u001b[0;31m \u001b[0my\u001b[0m\u001b[0;34m,\u001b[0m \u001b[0mw\u001b[0m \u001b[0;34m=\u001b[0m \u001b[0msimple_network\u001b[0m\u001b[0;34m(\u001b[0m\u001b[0;34m)\u001b[0m\u001b[0;34m\u001b[0m\u001b[0m\n\u001b[0m",
      "\u001b[0;32m<ipython-input-131-b9433838edac>\u001b[0m in \u001b[0;36msimple_network\u001b[0;34m()\u001b[0m\n\u001b[1;32m     33\u001b[0m \u001b[0;34m\u001b[0m\u001b[0m\n\u001b[1;32m     34\u001b[0m     \u001b[0;32mfor\u001b[0m \u001b[0mi\u001b[0m \u001b[0;32min\u001b[0m \u001b[0mrange\u001b[0m\u001b[0;34m(\u001b[0m\u001b[0;36m1\u001b[0m\u001b[0;34m,\u001b[0m\u001b[0mSTEPS_N\u001b[0m\u001b[0;34m)\u001b[0m\u001b[0;34m:\u001b[0m\u001b[0;34m\u001b[0m\u001b[0m\n\u001b[0;32m---> 35\u001b[0;31m         \u001b[0my\u001b[0m\u001b[0;34m[\u001b[0m\u001b[0;34m:\u001b[0m\u001b[0;34m,\u001b[0m\u001b[0mi\u001b[0m\u001b[0;34m]\u001b[0m \u001b[0;34m=\u001b[0m \u001b[0mw\u001b[0m\u001b[0;34m[\u001b[0m\u001b[0;34m:\u001b[0m\u001b[0;34m,\u001b[0m\u001b[0;34m:\u001b[0m\u001b[0;34m,\u001b[0m\u001b[0mi\u001b[0m\u001b[0;34m-\u001b[0m\u001b[0;36m1\u001b[0m\u001b[0;34m]\u001b[0m\u001b[0;34m.\u001b[0m\u001b[0mdot\u001b[0m\u001b[0;34m(\u001b[0m\u001b[0mx\u001b[0m\u001b[0;34m[\u001b[0m\u001b[0;34m:\u001b[0m\u001b[0;34m,\u001b[0m\u001b[0mi\u001b[0m\u001b[0;34m-\u001b[0m\u001b[0;36m1\u001b[0m\u001b[0;34m]\u001b[0m\u001b[0;34m)\u001b[0m\u001b[0;34m\u001b[0m\u001b[0m\n\u001b[0m\u001b[1;32m     36\u001b[0m         \u001b[0mw\u001b[0m\u001b[0;34m[\u001b[0m\u001b[0;34m:\u001b[0m\u001b[0;34m,\u001b[0m\u001b[0;34m:\u001b[0m\u001b[0;34m,\u001b[0m\u001b[0mi\u001b[0m\u001b[0;34m]\u001b[0m \u001b[0;34m=\u001b[0m \u001b[0mw\u001b[0m\u001b[0;34m[\u001b[0m\u001b[0;34m:\u001b[0m\u001b[0;34m,\u001b[0m\u001b[0;34m:\u001b[0m\u001b[0;34m,\u001b[0m\u001b[0mi\u001b[0m\u001b[0;34m-\u001b[0m\u001b[0;36m1\u001b[0m\u001b[0;34m]\u001b[0m \u001b[0;34m+\u001b[0m \u001b[0mx\u001b[0m\u001b[0;34m[\u001b[0m\u001b[0;34m:\u001b[0m\u001b[0;34m,\u001b[0m\u001b[0mi\u001b[0m\u001b[0;34m-\u001b[0m\u001b[0;36m1\u001b[0m\u001b[0;34m,\u001b[0m \u001b[0;32mNone\u001b[0m\u001b[0;34m]\u001b[0m \u001b[0;34m*\u001b[0m \u001b[0;34m(\u001b[0m\u001b[0my\u001b[0m\u001b[0;34m[\u001b[0m\u001b[0;34m:\u001b[0m\u001b[0;34m,\u001b[0m\u001b[0mi\u001b[0m\u001b[0;34m,\u001b[0m \u001b[0;32mNone\u001b[0m\u001b[0;34m]\u001b[0m\u001b[0;34m*\u001b[0m\u001b[0;34m(\u001b[0m\u001b[0my\u001b[0m\u001b[0;34m[\u001b[0m\u001b[0;34m:\u001b[0m\u001b[0;34m,\u001b[0m\u001b[0mi\u001b[0m\u001b[0;34m,\u001b[0m \u001b[0;32mNone\u001b[0m\u001b[0;34m]\u001b[0m \u001b[0;34m-\u001b[0m \u001b[0mtheta\u001b[0m\u001b[0;34m[\u001b[0m\u001b[0;34m:\u001b[0m\u001b[0;34m,\u001b[0m\u001b[0mi\u001b[0m\u001b[0;34m-\u001b[0m\u001b[0;36m1\u001b[0m\u001b[0;34m,\u001b[0m \u001b[0;32mNone\u001b[0m\u001b[0;34m]\u001b[0m\u001b[0;34m)\u001b[0m\u001b[0;34m)\u001b[0m\u001b[0;34m.\u001b[0m\u001b[0mT\u001b[0m\u001b[0;34m\u001b[0m\u001b[0m\n\u001b[1;32m     37\u001b[0m         \u001b[0;31m#w[:,:,i] = w[:,:,i-1] + ETA*STEPS_DIM*(\u001b[0m\u001b[0;34m\u001b[0m\u001b[0;34m\u001b[0m\u001b[0m\n",
      "\u001b[0;31mValueError\u001b[0m: shapes (2,3) and (2,) not aligned: 3 (dim 1) != 2 (dim 0)"
     ]
    }
   ],
   "source": [
    "y, w = simple_network()"
   ]
  },
  {
   "cell_type": "code",
   "execution_count": 127,
   "metadata": {
    "collapsed": false
   },
   "outputs": [],
   "source": [
    "X_NUM = 2\n",
    "Y_NUM = 3\n",
    "w = np.random.random([X_NUM, Y_NUM, STEPS_N])\n",
    "rand_seq = np.random.randint(0,2,STEPS_N)\n",
    "x = np.array([rand_seq, 1-rand_seq])*20\n",
    "y = np.zeros((Y_NUM,STEPS_N))\n",
    "theta = np.zeros((Y_NUM,STEPS_N))"
   ]
  },
  {
   "cell_type": "code",
   "execution_count": 128,
   "metadata": {
    "collapsed": false
   },
   "outputs": [],
   "source": [
    "w[:,:,i] = w[:,:,i-1] + x[:,i-1, None] * (y[:,i, None]*(y[:,i, None] - theta[:,i-1, None])).T"
   ]
  },
  {
   "cell_type": "code",
   "execution_count": 120,
   "metadata": {
    "collapsed": false
   },
   "outputs": [
    {
     "data": {
      "text/plain": [
       "array([[ 0.91896377,  0.06174454,  0.18789442],\n",
       "       [ 0.74392978,  0.63716398,  0.36300814]])"
      ]
     },
     "execution_count": 120,
     "metadata": {},
     "output_type": "execute_result"
    }
   ],
   "source": [
    "w[:,:,i]"
   ]
  },
  {
   "cell_type": "code",
   "execution_count": 109,
   "metadata": {
    "collapsed": false
   },
   "outputs": [
    {
     "data": {
      "text/plain": [
       "(2, 1)"
      ]
     },
     "execution_count": 109,
     "metadata": {},
     "output_type": "execute_result"
    }
   ],
   "source": [
    "x[:,i-1, None].shape"
   ]
  },
  {
   "cell_type": "code",
   "execution_count": null,
   "metadata": {
    "collapsed": true
   },
   "outputs": [],
   "source": []
  }
 ],
 "metadata": {
  "kernelspec": {
   "display_name": "Python 3",
   "language": "python",
   "name": "python3"
  },
  "language_info": {
   "codemirror_mode": {
    "name": "ipython",
    "version": 3
   },
   "file_extension": ".py",
   "mimetype": "text/x-python",
   "name": "python",
   "nbconvert_exporter": "python",
   "pygments_lexer": "ipython3",
   "version": "3.5.1"
  }
 },
 "nbformat": 4,
 "nbformat_minor": 0
}
