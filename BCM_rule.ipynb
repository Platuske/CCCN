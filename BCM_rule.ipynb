{
 "cells": [
  {
   "cell_type": "markdown",
   "metadata": {},
   "source": [
    "## BCM Rule"
   ]
  },
  {
   "cell_type": "code",
   "execution_count": null,
   "metadata": {
    "collapsed": true
   },
   "outputs": [],
   "source": []
  },
  {
   "cell_type": "code",
   "execution_count": 37,
   "metadata": {
    "collapsed": false
   },
   "outputs": [],
   "source": [
    "import numpy as np\n",
    "import matplotlib.pyplot as plt\n",
    "%matplotlib inline"
   ]
  },
  {
   "cell_type": "code",
   "execution_count": 138,
   "metadata": {
    "collapsed": false
   },
   "outputs": [
    {
     "data": {
      "text/plain": [
       "1e-06"
      ]
     },
     "execution_count": 138,
     "metadata": {},
     "output_type": "execute_result"
    }
   ],
   "source": [
    "float('1e-6')"
   ]
  },
  {
   "cell_type": "code",
   "execution_count": 164,
   "metadata": {
    "collapsed": false,
    "scrolled": true
   },
   "outputs": [],
   "source": [
    "STEPS_N = 10000\n",
    "THETA_START = 0.07\n",
    "ETA = float('1e-5')\n",
    "TOT_TIME = 10\n",
    "DELTA = TOT_TIME/STEPS_N\n",
    "TAU = 0.05\n",
    "Y0 = 10\n",
    "\n",
    "time_vect = np.linspace(0,TOT_TIME, STEPS_N)\n",
    "\n",
    "theta = np.zeros((1,STEPS_N))\n",
    "w = ([1,0.5]*np.ones((STEPS_N,2))).T\n",
    "rand_seq = np.random.randint(0,2,STEPS_N)\n",
    "x = np.array([rand_seq, 1-rand_seq])*20\n",
    "y = np.zeros((1,STEPS_N))\n",
    "\n",
    "for i in range(1,STEPS_N):\n",
    "    y[0,i] = w[:,i-1].dot(x[:,i-1])\n",
    "    w[:,i] = w[:,i-1] + (ETA*x[:,i-1]*y[0,i]*(y[0,i] - THETA))*DELTA\n",
    "    theta[0,i] = theta[0,i-1] + (DELTA/TAU) * (-theta[0,i-1] + y[0,i]**2/Y0)\n",
    "    \n",
    "    w[w < 0] = 0\n",
    "    \n",
    "    \n",
    "\n"
   ]
  },
  {
   "cell_type": "code",
   "execution_count": 165,
   "metadata": {
    "collapsed": false,
    "scrolled": true
   },
   "outputs": [
    {
     "data": {
      "image/png": "[encoded data removed]",
      "text/plain": [
       "<matplotlib.figure.Figure at 0x139feda90>"
      ]
     },
     "metadata": {},
     "output_type": "display_data"
    }
   ],
   "source": [
    "plt.plot(y[0,:])\n",
    "#plt.ylim(0, 0.001)\n",
    "#plt.xlim(0, 500)\n",
    "plt.show()\n"
   ]
  },
  {
   "cell_type": "code",
   "execution_count": 166,
   "metadata": {
    "collapsed": false
   },
   "outputs": [
    {
     "data": {
      "image/png": "[encoded data removed]",
      "text/plain": [
       "<matplotlib.figure.Figure at 0x13b40d550>"
      ]
     },
     "metadata": {},
     "output_type": "display_data"
    }
   ],
   "source": [
    "plt.plot(w[0,:])\n",
    "plt.plot(w[1,:])\n",
    "#plt.ylim(-50, 10)\n",
    "#plt.xlim(0, 100)\n",
    "plt.show()"
   ]
  },
  {
   "cell_type": "code",
   "execution_count": null,
   "metadata": {
    "collapsed": true
   },
   "outputs": [],
   "source": []
  }
 ],
 "metadata": {
  "kernelspec": {
   "display_name": "Python 3",
   "language": "python",
   "name": "python3"
  },
  "language_info": {
   "codemirror_mode": {
    "name": "ipython",
    "version": 3
   },
   "file_extension": ".py",
   "mimetype": "text/x-python",
   "name": "python",
   "nbconvert_exporter": "python",
   "pygments_lexer": "ipython3",
   "version": "3.5.1"
  }
 },
 "nbformat": 4,
 "nbformat_minor": 0
}
