{
 "cells": [
  {
   "cell_type": "code",
   "execution_count": 6,
   "metadata": {
    "collapsed": false
   },
   "outputs": [
    {
     "ename": "ImportError",
     "evalue": "No module named 'cPickle'",
     "output_type": "error",
     "traceback": [
      "\u001b[0;31m---------------------------------------------------------------------------\u001b[0m",
      "\u001b[0;31mImportError\u001b[0m                               Traceback (most recent call last)",
      "\u001b[0;32m<ipython-input-6-e798043728cd>\u001b[0m in \u001b[0;36m<module>\u001b[0;34m()\u001b[0m\n\u001b[1;32m      6\u001b[0m \u001b[0;32mimport\u001b[0m \u001b[0mscipy\u001b[0m\u001b[0;34m.\u001b[0m\u001b[0msignal\u001b[0m \u001b[0;32mas\u001b[0m \u001b[0msig\u001b[0m\u001b[0;34m\u001b[0m\u001b[0m\n\u001b[1;32m      7\u001b[0m \u001b[0mget_ipython\u001b[0m\u001b[0;34m(\u001b[0m\u001b[0;34m)\u001b[0m\u001b[0;34m.\u001b[0m\u001b[0mmagic\u001b[0m\u001b[0;34m(\u001b[0m\u001b[0;34m'matplotlib inline'\u001b[0m\u001b[0;34m)\u001b[0m\u001b[0;34m\u001b[0m\u001b[0m\n\u001b[0;32m----> 8\u001b[0;31m \u001b[0;32mimport\u001b[0m \u001b[0mcPickle\u001b[0m\u001b[0;34m\u001b[0m\u001b[0m\n\u001b[0m",
      "\u001b[0;31mImportError\u001b[0m: No module named 'cPickle'"
     ]
    }
   ],
   "source": [
    "# # BCM Rule - recurrent network\n",
    "import sys\n",
    "import numpy as np\n",
    "import scipy as sp\n",
    "import matplotlib.pyplot as plt\n",
    "import scipy.signal as sig\n",
    "get_ipython().magic('matplotlib inline')"
   ]
  },
  {
   "cell_type": "code",
   "execution_count": 3,
   "metadata": {
    "collapsed": false
   },
   "outputs": [],
   "source": [
    "class NeuralNet(object):\n",
    "    \n",
    "    def __init__(self, GROUPS_NUM=5, FF_NUM=200, REC_EXC_NUM=100, REC_INH_NUM=100, \n",
    "                 TOT_TIME=20, STEPS_DIM=0.0001,  TIME_CONST = 0.01,\n",
    "                 TARGET_RATE=20, STARTING_RATE = 20, MEAN_DRIVE = 10,\n",
    "                 THETA_START=0.07, ETA_E=float('1e-6'), ETA_I=float('1e-4'), TAU=1,\n",
    "                 FF_PL=False, REC_PL_E=False, REC_PL_I=False):\n",
    "        \n",
    "        #self.GROUPS_NUM = GROUPS_NUM\n",
    "            \n",
    "        self.FF_NUM = FF_NUM\n",
    "        self.REC_EXC_NUM = REC_EXC_NUM\n",
    "        self.REC_INH_NUM = REC_INH_NUM\n",
    "        self.REC_NUM = REC_EXC_NUM + REC_INH_NUM        \n",
    "        self.TOT_TIME = TOT_TIME\n",
    "        self.STEPS_DIM = STEPS_DIM\n",
    "        self.STARTING_RATE = STARTING_RATE #starting rate for recurrent network\n",
    "        self.TARGET_RATE = TARGET_RATE\n",
    "        self.THETA_START = THETA_START\n",
    "        self.ETA_E = ETA_E\n",
    "        self.ETA_I = ETA_I\n",
    "        self.TAU = TAU #for weights\n",
    "        self.FF_PL = FF_PL\n",
    "        self.REC_PL_E = REC_PL_E\n",
    "        self.REC_PL_I = REC_PL_I\n",
    "        self.TIME_CONST = TIME_CONST #for rate\n",
    "        self.MEAN_DRIVE = MEAN_DRIVE\n",
    "        \n",
    "        self.SUB_SAMP = 2000\n",
    "        \n",
    "        self.change_values()\n",
    "        self.set_ff_activation()\n",
    "        \n",
    "        \n",
    "    def __repr__(self):\n",
    "        return '''%d FF neurons\\n%d REC neurons''' % (self.FF_NUM, self.REC_NUM) \n",
    "        \n",
    "        \n",
    "    def change_values(self):\n",
    "        \n",
    "        self.STEPS_N = round(self.TOT_TIME/self.STEPS_DIM) # time steps = total simulation time / simulation step size\n",
    "        self.time_vect = np.linspace(0,self.TOT_TIME, self.STEPS_N) # create a time vector of size TOT.time and step size \n",
    "        \n",
    "        self.rec_nn = np.zeros((self.REC_NUM, self.STEPS_N)) # create empty array with size of the recurrent network\n",
    "        self.rec_nn[:,0] = np.random.randint(0,self.STARTING_RATE,self.REC_NUM) # intial firing rates at time step 0\n",
    "        \n",
    "        self.ff_nn = np.zeros((self.REC_NUM, self.STEPS_N))\n",
    "        \n",
    "        # create a random weight matrix for feed-forward input (size REC x FF) \n",
    "        self.w_ff = np.eye(self.REC_NUM)\n",
    "        \n",
    "        self.w_ff[self.REC_EXC_NUM:,self.REC_EXC_NUM:] = 0 #no feedforward input for inhibitory neurons! \n",
    "        \n",
    "        # create a random weight matrix for the recurrent network\n",
    "        \n",
    "        #Draw recurrent weights from gamma distribution\n",
    "        R = 0.1 #Limit radius for eigenvalues in complex space\n",
    "        K = 2 #shape of the Gamma distribution\n",
    "        THETA = R/((2*self.REC_NUM)**(1/2.0))\n",
    "\n",
    "        w_rec = np.random.gamma(K, THETA, [self.REC_NUM,self.REC_NUM])\n",
    "        np.fill_diagonal(w_rec,0)\n",
    "        scal = np.absolute(sum(w_rec[:,:self.REC_EXC_NUM].T)/sum(w_rec[:,self.REC_EXC_NUM:].T))        \n",
    "        w_rec[:,self.REC_EXC_NUM:] = -(w_rec[:,self.REC_EXC_NUM:] * scal.reshape((-1,1))) #inhibitory \n",
    "        \n",
    "#        w_rec[:,self.REC_EXC_NUM:] = -3*w_rec[:,self.REC_EXC_NUM:] #inhibition 3x excitation\n",
    "        \n",
    "        self.w_rec = w_rec\n",
    "\n",
    "        self.w_history = np.zeros((\n",
    "                self.REC_NUM, self.REC_NUM, round(self.STEPS_N/self.SUB_SAMP-1)))\n",
    "        \n",
    "        self.theta = np.zeros((self.REC_NUM, self.STEPS_N))\n",
    "        self.theta[:,0] = self.THETA_START\n",
    "        \n",
    "        #targ = np.ones((self.REC_NUM))*self.TARGET_RATE\n",
    "        #self.mean_drive = targ - self.w_rec.dot(targ)\n",
    "    \n",
    "    def set_ff_activation(self, BACKGROUND_TYPE='none', #BACKGROUND_VALUE=None, \n",
    "                          STIM_VALUE=1, STIM_TYPE='none', CORR_IN_GROUP=0.5,#STIM_LENGTH=None, #STIM_END=None,\n",
    "                          GROUPS_NUM=5, make_uncorr=False):\n",
    "                        #target_neurons=[]):\n",
    "        \n",
    "        if STIM_VALUE is None:\n",
    "            STIM_VALUE = self.STARTING_RATE/4\n",
    "        \n",
    "        #Set the background (input values to nonstimulated neurons - zero or random noise)\n",
    "        if BACKGROUND_TYPE=='none':\n",
    "            #Set the input values of the non stimulated neurons\n",
    "            noise = np.zeros((self.REC_NUM, self.STEPS_N)) \n",
    "            \n",
    "        elif BACKGROUND_TYPE=='random':\n",
    "            #Set the input values of the non stimulated neurons\n",
    "            noise = np.random.rand(\n",
    "                self.REC_NUM, self.time_vect.shape[0])*NOISE_VALUE \n",
    "            \n",
    "        elif BACKGROUND_TYPE=='OU_noise':\n",
    "            sigma_mtx = corr_mtx_4_ou(N=self.FF_NUM, VAR=STIM_VALUE, GROUPS_NUM=GROUPS_NUM, \n",
    "                  CORR_IN_GROUP=CORR_IN_GROUP, make_uncorr=make_uncorr, ei_clustering=False)\n",
    "            \n",
    "            noise = ou_process(sigma_mtx, self.STEPS_N, STEPS_DIM=self.STEPS_DIM)\n",
    "            \n",
    "            plt.imshow(sigma_mtx)\n",
    "        \n",
    "        elif BACKGROUND_TYPE=='OU_noise_ei_clustering':\n",
    "            sigma_mtx = corr_mtx_4_ou(N=self.FF_NUM, VAR=STIM_VALUE, GROUPS_NUM=GROUPS_NUM, \n",
    "                  CORR_IN_GROUP=CORR_IN_GROUP, make_uncorr=make_uncorr, ei_clustering=True)\n",
    "                \n",
    "            plt.imshow(sigma_mtx)\n",
    "            \n",
    "            noise = ou_process(sigma_mtx, self.STEPS_N, STEPS_DIM=self.STEPS_DIM)\n",
    "            \n",
    "        self.ff_nn = noise\n",
    "\n",
    "        \n",
    "    def display_stim(self):\n",
    "        f, ax = plt.subplots(1,1, figsize = (20,5))\n",
    "        ax.imshow(self.ff_nn, aspect='auto',  interpolation='nearest')\n",
    "        plt.colorbar\n",
    "        \n",
    "    \n",
    "    def run_network(self):\n",
    "        \n",
    "        #  rec.nn                           --> recurrent network \n",
    "        #  STEPS_DIM/TIME_CONST             --> size of simulation interval / rate time constant\n",
    "        #  self.rec_nn                     --> leaky term \n",
    "        #  w_rec dot rec_nn                --> matrix multiplication of recurrent weight matrix and recurrent \n",
    "        #  w_ff dot ff_nn                  --> feed-forward weight matrix * feed-forward input firing rates\n",
    "        #self.w_history[:,:,0] = self.w_rec\n",
    "        k=0\n",
    "        \n",
    "        for i in range(1,self.STEPS_N):\n",
    "            self.rec_nn[:,i] = self.rec_nn[:,i-1] + (self.STEPS_DIM/self.TIME_CONST)*(\n",
    "                    -self.rec_nn[:,i-1] + io_function(self.w_rec[:,:].dot(self.rec_nn[:,i-1]) + \n",
    "                    self.w_ff[:,:].dot(self.ff_nn[:,i-1]) + self.MEAN_DRIVE))\n",
    "            \n",
    "            # BCM threshold theta\n",
    "            # TAU --> BCM time constant\n",
    "\n",
    "            \n",
    "            # recurrent network placticiy\n",
    "            # ETA --> factor of the BCM rule\n",
    "\n",
    "            if i%500 == 0 and i > (5*self.TAU/self.STEPS_DIM):\n",
    "                if self.REC_PL_E:\n",
    "                    self.w_rec[:,:self.REC_EXC_NUM] = self.w_rec[:,:self.REC_EXC_NUM] + self.ETA_E*np.outer(\n",
    "                        (self.rec_nn[:,i-1]*(self.rec_nn[:,i-1] - self.theta[:,i-1])), \n",
    "                        (self.rec_nn[:self.REC_EXC_NUM,i-1]))\n",
    "                    \n",
    "                if self.REC_PL_I:\n",
    "                    self.w_rec[:,self.REC_EXC_NUM:] = self.w_rec[:,self.REC_EXC_NUM:] - self.ETA_I*np.outer(\n",
    "                        (self.rec_nn[:,i-1] - self.TARGET_RATE), \n",
    "                        self.rec_nn[self.REC_EXC_NUM:,i-1])\n",
    "                    \n",
    "                if self.FF_PL:                \n",
    "                    self.w_ff = self.w_ff + self.ETA *(\n",
    "                        (self.rec_nn[:,i-1]*(self.rec_nn[:,i-1] - self.theta[:,i-1])) * self.ff_nn[:,i-1].T)\n",
    "\n",
    "                \n",
    "                np.fill_diagonal(self.w_rec[:,:], 0) # set diagonal to 0 to prevent self-excitation\n",
    "                \n",
    "\n",
    "            self.w_rec[:,:self.REC_EXC_NUM] = np.clip(self.w_rec[:,:self.REC_EXC_NUM], 0, np.inf)\n",
    "            self.w_rec[:,self.REC_EXC_NUM:] = np.clip(self.w_rec[:,self.REC_EXC_NUM:], -np.inf,0)\n",
    "                \n",
    "            self.theta[:,i] = self.theta[:,i-1] + (self.STEPS_DIM/self.TAU) * (\n",
    "                -self.theta[:,i-1] + (self.rec_nn[:,i]**2)/self.TARGET_RATE)\n",
    "            \n",
    "            if i%self.SUB_SAMP == 0:\n",
    "                self.w_history[:,:,k] = self.w_rec[:,:]\n",
    "                k+=1\n",
    "            \n",
    "        self.w_history[:,:,-1] = self.w_rec\n",
    "            \n",
    "                                \n",
    "    def plot_rate(self):\n",
    "        f, ax = plt.subplots(1,2, figsize = (20,5))\n",
    "\n",
    "        img1 = ax[0].imshow(self.rec_nn[:,::1000], aspect='auto', interpolation = 'nearest')\n",
    "        ax[0].set_title('change in network firing rate over time')\n",
    "        plt.colorbar(img1, ax=ax[0])\n",
    "        \n",
    "        ax[1].plot(np.mean(self.rec_nn[:,:],0)) #mean rate over time over network \n",
    "        ax[1].set_title('mean change in rate of whole network over simulation')\n",
    "        \n",
    "    \n",
    "    def plot_weight(self):\n",
    "        f, ax = plt.subplots(1,2, figsize = (20,5))\n",
    "        ax[0].set_title('change in weights of subset of exc and inh neurons over simulation')\n",
    "        img1 = ax[0].pcolor(self.w_sample[:,::100], vmin=-4, vmax=4)\n",
    "        plt.colorbar(img1, ax=ax[0])\n",
    "        #plt.show()\n",
    "        \n",
    "        img2 = ax[1].imshow(self.w_history[:,:,0], interpolation='nearest')\n",
    "        ax[1].set_title('weight matrix at beginning of the simulation')\n",
    "        plt.colorbar(img2, ax=ax[1])\n",
    "\n",
    "\n",
    "def corr_mtx_4_ou(N, VAR=1, GROUPS_NUM=1, CORR_IN_GROUP=0.5,\n",
    "                   make_uncorr=False, ei_clustering=False):\n",
    "    \n",
    "    POS_CORR = CORR_IN_GROUP #positive correlation for inputs on covariance matrix\n",
    "    GROUP_SIZE = int(N/GROUPS_NUM) #number of neurons in each group \n",
    "\n",
    "    #Calculate the negative correlation to have 0.001 sum over the rows\n",
    "    if ei_clustering:\n",
    "        GROUP_SIZE = round(GROUP_SIZE/2)\n",
    "        NEG_CORR = -(0.999 + (GROUP_SIZE-1)*POS_CORR)/((GROUPS_NUM-1)*GROUP_SIZE)\n",
    "        block = POS_CORR*np.ones([GROUP_SIZE, GROUP_SIZE])\n",
    "        sigma_mtx = np.kron(np.eye(GROUPS_NUM), block) #block diagonal \n",
    "        sigma_noise = np.kron(np.ones((2,2)), sigma_mtx)\n",
    "        \n",
    "        np.fill_diagonal(sigma_noise, 1.001)\n",
    "    else:\n",
    "        NEG_CORR = -(0.999 + (GROUP_SIZE-1)*POS_CORR)/((GROUPS_NUM-1)*GROUP_SIZE)\n",
    "        block = POS_CORR*np.ones([GROUP_SIZE, GROUP_SIZE])\n",
    "        sigma_noise = np.kron(np.eye(GROUPS_NUM), block) #block diagonal \n",
    "        np.fill_diagonal(sigma_noise, 1)\n",
    "\n",
    "    if not make_uncorr:\n",
    "        sigma_noise[sigma_noise == 0] = NEG_CORR #fill everything else with -ve correlations \n",
    "    \n",
    "    sigma_noise *= VAR    \n",
    "    \n",
    "    return sigma_noise\n",
    "\n",
    "def ou_process(cov_mtx, STEPS_N, TAU=0.5, STEPS_DIM=0.0001):\n",
    "    N = cov_mtx.shape[0]\n",
    "    ell_noise = np.linalg.cholesky(cov_mtx)\n",
    "    z_noise = np.sqrt(2*STEPS_DIM/TAU)\n",
    "\n",
    "    noise = np.zeros((N,STEPS_N))\n",
    "    noise[:,0] = ell_noise.dot(np.random.normal(0,1,(N)))\n",
    "    \n",
    "    for i in range(1,STEPS_N):\n",
    "        noise[:,i] = (1 - STEPS_DIM/TAU)*noise[:,i-1] + z_noise*ell_noise.dot(np.random.normal(0,1,N))\n",
    "    return noise\n",
    "\n",
    "def io_function(x):\n",
    "    #Nonlinear function that rectifies under 0\n",
    "    x[x<0] = 0\n",
    "    x[x>=20] = 20+80*np.tanh((x[x>=20]-20)/80)\n",
    "\n",
    "    return x"
   ]
  },
  {
   "cell_type": "code",
   "execution_count": null,
   "metadata": {
    "collapsed": false
   },
   "outputs": [],
   "source": [
    "net = NeuralNet(GROUPS_NUM = 1, FF_NUM = 200, REC_EXC_NUM = 100, REC_INH_NUM = 100, \n",
    "                TOT_TIME = 3000, STEPS_DIM = 0.001, TIME_CONST = 0.01, \n",
    "                TARGET_RATE = 20, STARTING_RATE = 10, MEAN_DRIVE = 10,\n",
    "                THETA_START = 0.1, ETA_E = float('1e-7'), ETA_I = float('1e-6'), TAU = 1, \n",
    "                FF_PL = False, REC_PL_E = True, REC_PL_I = True)\n",
    "\n",
    "net.set_ff_activation(BACKGROUND_TYPE='OU_noise',  \n",
    "                          STIM_VALUE=5, STIM_TYPE='none', CORR_IN_GROUP=0.8,\n",
    "                          GROUPS_NUM=200, make_uncorr=True)"
   ]
  },
  {
   "cell_type": "code",
   "execution_count": null,
   "metadata": {
    "collapsed": false
   },
   "outputs": [],
   "source": [
    "net.run_network()"
   ]
  },
  {
   "cell_type": "code",
   "execution_count": null,
   "metadata": {
    "collapsed": false
   },
   "outputs": [],
   "source": [
    "f, ax = plt.subplots(1,2, figsize = (20,5))\n",
    "\n",
    "img1 = ax[0].imshow(net.rec_nn[:,::10000], aspect='auto', interpolation = 'nearest')\n",
    "ax[0].set_title('change in network firing rate over time')\n",
    "plt.colorbar(img1, ax=ax[0])\n",
    "\n",
    "#ax[1].plot(np.mean(net.rec_nn[:,:],0)) #mean rate over time over network \n",
    "ax[1].plot(net.rec_nn[1,::10000]) #mean rate over time over network \n",
    "\n",
    "ax[1].set_title('mean change in rate of whole network over simulation')\n",
    "#ax[1].set_xlim(0,100)\n",
    "plt.show()"
   ]
  },
  {
   "cell_type": "code",
   "execution_count": null,
   "metadata": {
    "collapsed": false
   },
   "outputs": [],
   "source": [
    "plt.imshow(net.w_rec)\n",
    "plt.colorbar()\n",
    "plt.show()"
   ]
  },
  {
   "cell_type": "code",
   "execution_count": null,
   "metadata": {
    "collapsed": false
   },
   "outputs": [],
   "source": [
    "diff_weight = (net.w_history[:,:,-1]-net.w_history[:,:,0])\n",
    "plt.imshow(diff_weight[:,:], interpolation='nearest')\n",
    "plt.colorbar()\n",
    "plt.title('difference between first and last weight matrix')\n",
    "plt.show()"
   ]
  },
  {
   "cell_type": "code",
   "execution_count": null,
   "metadata": {
    "collapsed": false
   },
   "outputs": [],
   "source": [
    "exc_str = net.w_history[:,:,0]\n",
    "exc_end = net.w_history[:,:,-1]\n",
    "diff_exc_weight = (exc_end-exc_str)/(exc_str+0.000000001)\n",
    "diff_exc_weight[diff_exc_weight>0.70] = 0.7\n",
    "\n",
    "plt.imshow(diff_exc_weight, interpolation='nearest')\n",
    "plt.colorbar()\n",
    "plt.title('Normalized difference')\n",
    "plt.show()"
   ]
  },
  {
   "cell_type": "code",
   "execution_count": null,
   "metadata": {
    "collapsed": false
   },
   "outputs": [],
   "source": [
    "cov_in = np.cov(net.ff_n[:net.REC_EXC_NUM,:net.REC_EXC_NUM])"
   ]
  },
  {
   "cell_type": "code",
   "execution_count": null,
   "metadata": {
    "collapsed": false
   },
   "outputs": [],
   "source": [
    "plt.imshow(cov_in)"
   ]
  },
  {
   "cell_type": "code",
   "execution_count": null,
   "metadata": {
    "collapsed": false
   },
   "outputs": [],
   "source": [
    "ex_hist = net.w_history[:net.REC_EXC_NUM,:net.REC_EXC_NUM]\n",
    "w_trend = np.reshape(ex_hist,(ex_hist.shape[0]*ex_hist.shape[1], ex_hist.shape[2]) )"
   ]
  },
  {
   "cell_type": "code",
   "execution_count": null,
   "metadata": {
    "collapsed": false
   },
   "outputs": [],
   "source": [
    "w_derivative = np.absolute(w_trend[:,:-1]-w_trend[:,1:])"
   ]
  },
  {
   "cell_type": "code",
   "execution_count": null,
   "metadata": {
    "collapsed": false
   },
   "outputs": [],
   "source": [
    "plt.plot(np.mean(w_trend,0))"
   ]
  },
  {
   "cell_type": "code",
   "execution_count": null,
   "metadata": {
    "collapsed": false
   },
   "outputs": [],
   "source": [
    "#plt.imshow(w_trend, aspect='auto')\n",
    "for i in range(100):\n",
    "    plt.plot(net.w_history[i,:]-net.w_history[i,1])\n",
    "#plt.xlim([0,30])\n",
    "plt.show()"
   ]
  },
  {
   "cell_type": "code",
   "execution_count": null,
   "metadata": {
    "collapsed": false
   },
   "outputs": [],
   "source": [
    "np.max(np.max(net.w_history[:,:,-1],0))"
   ]
  },
  {
   "cell_type": "code",
   "execution_count": null,
   "metadata": {
    "collapsed": false,
    "scrolled": true
   },
   "outputs": [],
   "source": [
    "fin_weights = net.w_history[:,:,-1]\n",
    "fin_weights[fin_weights>(2/3)*np.max(np.max(net.w_history[:,:,-1],0))"
   ]
  },
  {
   "cell_type": "code",
   "execution_count": null,
   "metadata": {
    "collapsed": false
   },
   "outputs": [],
   "source": [
    "disp_weights = exc_end\n",
    "low_lim = 0.01\n",
    "up_lim = 0.02\n",
    "disp_weights[disp_weights<low_lim] = low_lim\n",
    "disp_weights[disp_weights>up_lim] = up_lim\n",
    "plt.imshow(disp_weights)\n",
    "plt.colorbar()\n",
    "plt.plot()"
   ]
  },
  {
   "cell_type": "code",
   "execution_count": null,
   "metadata": {
    "collapsed": false
   },
   "outputs": [],
   "source": [
    "exc_weights = net.w_history[:,:,-1]\n",
    "thr = 2/3\n",
    "#exc_weights = exc_weights[:net.REC_EXC_NUM,:net.REC_EXC_NUM]\n",
    "exc_diff = np.zeros(exc_weights.shape)\n",
    "exc_diff[exc_weights>(thr*np.max(exc_weights))] = 1\n",
    "exc_diff[exc_weights<(thr*np.max(exc_weights))] = 0\n",
    "overlap = (exc_diff == exc_diff.T) * exc_diff\n",
    "bidirectional_connections = np.argwhere(exc_diff != 0)\n",
    "plt.imshow(exc_diff, interpolation = 'nearest', cmap='hot')\n",
    "plt.title('\\n strong (>2/3 max weight) bidirectional connections \\n')"
   ]
  },
  {
   "cell_type": "code",
   "execution_count": null,
   "metadata": {
    "collapsed": false
   },
   "outputs": [],
   "source": [
    "bidirectional_weights = net.w_history[:,:,-1]"
   ]
  },
  {
   "cell_type": "code",
   "execution_count": null,
   "metadata": {
    "collapsed": false
   },
   "outputs": [],
   "source": [
    "np.savetxt('nocorr_exc_PL_inh_newPL_bidirectional_connections.txt', bidirectional_weights)"
   ]
  },
  {
   "cell_type": "markdown",
   "metadata": {},
   "source": [
    "## Calculate lyapunov"
   ]
  },
  {
   "cell_type": "code",
   "execution_count": null,
   "metadata": {
    "collapsed": false
   },
   "outputs": [],
   "source": [
    "bdw = np.loadtxt('exc_PL_inh_newPL_bidirectional_connections.txt')\n",
    "lyapunov_input = bdw\n",
    "\n",
    "def calc_lyap(bdw)\n",
    "\n",
    "    identity_mat = np.eye(net.REC_EXC_NUM)\n",
    "    A = lyapunov_input - identity_mat\n",
    "    Eij = sp.linalg.solve_lyapunov(A, 2*identity_mat)\n",
    "    Cij = np.corrcoef(Eij)\n",
    "    return Cij\n",
    "\n",
    "plt.imshow(Cij, interpolation = 'nearest')"
   ]
  },
  {
   "cell_type": "code",
   "execution_count": null,
   "metadata": {
    "collapsed": true
   },
   "outputs": [],
   "source": [
    "#f = plt.figure(figsize=(20,10))\n",
    "plt.imshow(net.ff_nn[:,::2000],  interpolation = 'nearest', aspect='auto')\n",
    "plt.title('Input in time')\n",
    "plt.colorbar()\n",
    "plt.show()"
   ]
  },
  {
   "cell_type": "markdown",
   "metadata": {},
   "source": [
    "## Run protocol "
   ]
  },
  {
   "cell_type": "code",
   "execution_count": 4,
   "metadata": {
    "collapsed": false
   },
   "outputs": [
    {
     "data": {
      "image/png": "[encoded data removed]",
      "text/plain": [
       "<matplotlib.figure.Figure at 0x10f211668>"
      ]
     },
     "metadata": {},
     "output_type": "display_data"
    }
   ],
   "source": [
    "w_hist_list = []\n",
    "activity_list = []\n",
    "\n",
    "# ===== 1 =====\n",
    "# 20 min, exc plasticity, correlated input\n",
    "\n",
    "#Initialize network - only ex plasticity, 40 min, no input to I neurons\n",
    "net = NeuralNet(FF_NUM = 200, REC_EXC_NUM = 100, REC_INH_NUM = 100, \n",
    "                TOT_TIME = 1200, STEPS_DIM = 0.001, TIME_CONST = 0.01, \n",
    "                TARGET_RATE = 20, STARTING_RATE = 10, \n",
    "                THETA_START = 0.1, ETA_E = float('1e-7'), ETA_I = float('1e-6'), TAU = 1, \n",
    "                FF_PL = False, REC_PL_E = True, REC_PL_I = True)\n",
    "\n",
    "#Initialize correlated input\n",
    "net.set_ff_activation(BACKGROUND_TYPE='OU_noise',  \n",
    "                          STIM_VALUE=5, STIM_TYPE='none', CORR_IN_GROUP=0.8,\n",
    "                          GROUPS_NUM=10, make_uncorr=False)\n",
    "\n",
    "#run network and save connections and downsampled activity and w_history\n",
    "net.run_network()\n",
    "w_hist_list.append(net.w_history[:,:,::10]) \n",
    "activity_list.append(net.rec_nn[:,::100])\n",
    "print('RAN: 20 min, exc plasticity, correlated input')\n"
   ]
  },
  {
   "cell_type": "code",
   "execution_count": null,
   "metadata": {
    "collapsed": false
   },
   "outputs": [],
   "source": [
    "\n",
    "# ===== 2 =====\n",
    "#20 min, no plasticity, initial weights, uncorr input\n",
    "\n",
    "#get previous initial weigths:\n",
    "net.w_rec = w_hist_list[0][:,:,0]\n",
    "\n",
    "#Switch off plasticity:\n",
    "net.REC_PL_E = False\n",
    "\n",
    "#set new uncorrelated input:\n",
    "net.set_ff_activation(BACKGROUND_TYPE='OU_noise',  \n",
    "                          STIM_VALUE=5, STIM_TYPE='none', CORR_IN_GROUP=0.8,\n",
    "                          GROUPS_NUM=200, make_uncorr=True)\n",
    "\n",
    "#run network and save connections and downsampled activity and w_history\n",
    "net.run_network()\n",
    "w_hist_list.append(net.w_history[:,:,::10])\n",
    "activity_list.append(net.rec_nn[:,::10])\n",
    "print('RAN: 20 min, no plasticity, initial weights, uncorr input')"
   ]
  },
  {
   "cell_type": "code",
   "execution_count": 12,
   "metadata": {
    "collapsed": false
   },
   "outputs": [],
   "source": [
    "\n",
    "# ===== 3 =====\n",
    "#20 min, no plasticity, final weights, uncorr input (same as above)\n",
    "\n",
    "#get previous final weigths:\n",
    "net.w_rec = w_hist_list[0][:,:,-1] #is this the right index?? \n",
    "\n",
    "#run network and save connections and downsampled activity and w_history\n",
    "net.run_network()\n",
    "w_hist_list.append(net.w_history[:,:,::10])\n",
    "activity_list.append(net.rec_nn[:,::10])\n",
    "print('RAN: 20 min, no plasticity, final weights, uncorr input (same as above)')"
   ]
  },
  {
   "cell_type": "code",
   "execution_count": null,
   "metadata": {
    "collapsed": false
   },
   "outputs": [],
   "source": [
    "\n",
    "# ===== 4 =====\n",
    "#20 min, plasticity, final weights, uncorr input (same as above)\n",
    "net.REC_PL_E = True\n",
    "\n",
    "#run network and save connections and downsampled activity and w_history\n",
    "net.run_network()\n",
    "w_hist_list.append(net.w_history[:,:,::10])\n",
    "activity_list.append(net.rec_nn[:,::100])\n",
    "\n",
    "print('RAN: 20 min, plasticity, final weights, uncorr input (same as above)')"
   ]
  },
  {
   "cell_type": "code",
   "execution_count": 7,
   "metadata": {
    "collapsed": true
   },
   "outputs": [],
   "source": [
    "np.save(\"whistlist.npy\", w_hist_list)"
   ]
  },
  {
   "cell_type": "code",
   "execution_count": 19,
   "metadata": {
    "collapsed": false
   },
   "outputs": [
    {
     "data": {
      "text/plain": [
       "3"
      ]
     },
     "execution_count": 19,
     "metadata": {},
     "output_type": "execute_result"
    }
   ],
   "source": [
    "len(w_hist_list)"
   ]
  },
  {
   "cell_type": "code",
   "execution_count": null,
   "metadata": {
    "collapsed": true
   },
   "outputs": [],
   "source": []
  }
 ],
 "metadata": {
  "kernelspec": {
   "display_name": "Python 3",
   "language": "python",
   "name": "python3"
  },
  "language_info": {
   "codemirror_mode": {
    "name": "ipython",
    "version": 3
   },
   "file_extension": ".py",
   "mimetype": "text/x-python",
   "name": "python",
   "nbconvert_exporter": "python",
   "pygments_lexer": "ipython3",
   "version": "3.5.2"
  }
 },
 "nbformat": 4,
 "nbformat_minor": 0
}
